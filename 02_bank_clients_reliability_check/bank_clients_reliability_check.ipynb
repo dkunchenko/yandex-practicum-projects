{
 "cells": [
  {
   "cell_type": "markdown",
   "id": "386f2ae7",
   "metadata": {
    "deletable": false,
    "editable": false,
    "id": "386f2ae7"
   },
   "source": [
    "# Исследование надежности заемщиков\n"
   ]
  },
  {
   "cell_type": "markdown",
   "id": "ffe86f65",
   "metadata": {
    "deletable": false,
    "editable": false,
    "id": "ffe86f65"
   },
   "source": [
    "Во второй части проекта вы выполните шаги 3 и 4. Их вручную проверит ревьюер.\n",
    "Чтобы вам не пришлось писать код заново для шагов 1 и 2, мы добавили авторские решения в ячейки с кодом. \n",
    "\n"
   ]
  },
  {
   "cell_type": "markdown",
   "id": "26613308",
   "metadata": {
    "deletable": false,
    "editable": false,
    "id": "26613308"
   },
   "source": [
    "## Откройте таблицу и изучите общую информацию о данных"
   ]
  },
  {
   "cell_type": "markdown",
   "id": "3c9f838e",
   "metadata": {
    "deletable": false,
    "editable": false,
    "id": "3c9f838e"
   },
   "source": [
    "**Задание 1. Импортируйте библиотеку pandas. Считайте данные из csv-файла в датафрейм и сохраните в переменную `data`. Путь к файлу:**\n",
    "\n",
    "`/datasets/data.csv`"
   ]
  },
  {
   "cell_type": "code",
   "execution_count": 1,
   "id": "77a68a90",
   "metadata": {
    "deletable": false,
    "id": "77a68a90"
   },
   "outputs": [],
   "source": [
    "import pandas as pd\n",
    "import seaborn\n",
    "\n",
    "try:\n",
    "    data = pd.read_csv('/datasets/data.csv')\n",
    "except:\n",
    "    data = pd.read_csv('https://code.s3.yandex.net/datasets/data.csv')"
   ]
  },
  {
   "cell_type": "markdown",
   "id": "45365635",
   "metadata": {
    "deletable": false,
    "editable": false,
    "id": "45365635"
   },
   "source": [
    "**Задание 2. Выведите первые 20 строчек датафрейма `data` на экран.**"
   ]
  },
  {
   "cell_type": "code",
   "execution_count": 2,
   "id": "b0451a9a",
   "metadata": {
    "deletable": false,
    "id": "b0451a9a",
    "outputId": "1a8f3ef2-d323-4ec2-ddf7-89670b5944c4"
   },
   "outputs": [
    {
     "data": {
      "text/html": [
       "<div>\n",
       "<style scoped>\n",
       "    .dataframe tbody tr th:only-of-type {\n",
       "        vertical-align: middle;\n",
       "    }\n",
       "\n",
       "    .dataframe tbody tr th {\n",
       "        vertical-align: top;\n",
       "    }\n",
       "\n",
       "    .dataframe thead th {\n",
       "        text-align: right;\n",
       "    }\n",
       "</style>\n",
       "<table border=\"1\" class=\"dataframe\">\n",
       "  <thead>\n",
       "    <tr style=\"text-align: right;\">\n",
       "      <th></th>\n",
       "      <th>children</th>\n",
       "      <th>days_employed</th>\n",
       "      <th>dob_years</th>\n",
       "      <th>education</th>\n",
       "      <th>education_id</th>\n",
       "      <th>family_status</th>\n",
       "      <th>family_status_id</th>\n",
       "      <th>gender</th>\n",
       "      <th>income_type</th>\n",
       "      <th>debt</th>\n",
       "      <th>total_income</th>\n",
       "      <th>purpose</th>\n",
       "    </tr>\n",
       "  </thead>\n",
       "  <tbody>\n",
       "    <tr>\n",
       "      <th>0</th>\n",
       "      <td>1</td>\n",
       "      <td>-8437.673028</td>\n",
       "      <td>42</td>\n",
       "      <td>высшее</td>\n",
       "      <td>0</td>\n",
       "      <td>женат / замужем</td>\n",
       "      <td>0</td>\n",
       "      <td>F</td>\n",
       "      <td>сотрудник</td>\n",
       "      <td>0</td>\n",
       "      <td>253875.639453</td>\n",
       "      <td>покупка жилья</td>\n",
       "    </tr>\n",
       "    <tr>\n",
       "      <th>1</th>\n",
       "      <td>1</td>\n",
       "      <td>-4024.803754</td>\n",
       "      <td>36</td>\n",
       "      <td>среднее</td>\n",
       "      <td>1</td>\n",
       "      <td>женат / замужем</td>\n",
       "      <td>0</td>\n",
       "      <td>F</td>\n",
       "      <td>сотрудник</td>\n",
       "      <td>0</td>\n",
       "      <td>112080.014102</td>\n",
       "      <td>приобретение автомобиля</td>\n",
       "    </tr>\n",
       "    <tr>\n",
       "      <th>2</th>\n",
       "      <td>0</td>\n",
       "      <td>-5623.422610</td>\n",
       "      <td>33</td>\n",
       "      <td>Среднее</td>\n",
       "      <td>1</td>\n",
       "      <td>женат / замужем</td>\n",
       "      <td>0</td>\n",
       "      <td>M</td>\n",
       "      <td>сотрудник</td>\n",
       "      <td>0</td>\n",
       "      <td>145885.952297</td>\n",
       "      <td>покупка жилья</td>\n",
       "    </tr>\n",
       "    <tr>\n",
       "      <th>3</th>\n",
       "      <td>3</td>\n",
       "      <td>-4124.747207</td>\n",
       "      <td>32</td>\n",
       "      <td>среднее</td>\n",
       "      <td>1</td>\n",
       "      <td>женат / замужем</td>\n",
       "      <td>0</td>\n",
       "      <td>M</td>\n",
       "      <td>сотрудник</td>\n",
       "      <td>0</td>\n",
       "      <td>267628.550329</td>\n",
       "      <td>дополнительное образование</td>\n",
       "    </tr>\n",
       "    <tr>\n",
       "      <th>4</th>\n",
       "      <td>0</td>\n",
       "      <td>340266.072047</td>\n",
       "      <td>53</td>\n",
       "      <td>среднее</td>\n",
       "      <td>1</td>\n",
       "      <td>гражданский брак</td>\n",
       "      <td>1</td>\n",
       "      <td>F</td>\n",
       "      <td>пенсионер</td>\n",
       "      <td>0</td>\n",
       "      <td>158616.077870</td>\n",
       "      <td>сыграть свадьбу</td>\n",
       "    </tr>\n",
       "    <tr>\n",
       "      <th>5</th>\n",
       "      <td>0</td>\n",
       "      <td>-926.185831</td>\n",
       "      <td>27</td>\n",
       "      <td>высшее</td>\n",
       "      <td>0</td>\n",
       "      <td>гражданский брак</td>\n",
       "      <td>1</td>\n",
       "      <td>M</td>\n",
       "      <td>компаньон</td>\n",
       "      <td>0</td>\n",
       "      <td>255763.565419</td>\n",
       "      <td>покупка жилья</td>\n",
       "    </tr>\n",
       "    <tr>\n",
       "      <th>6</th>\n",
       "      <td>0</td>\n",
       "      <td>-2879.202052</td>\n",
       "      <td>43</td>\n",
       "      <td>высшее</td>\n",
       "      <td>0</td>\n",
       "      <td>женат / замужем</td>\n",
       "      <td>0</td>\n",
       "      <td>F</td>\n",
       "      <td>компаньон</td>\n",
       "      <td>0</td>\n",
       "      <td>240525.971920</td>\n",
       "      <td>операции с жильем</td>\n",
       "    </tr>\n",
       "    <tr>\n",
       "      <th>7</th>\n",
       "      <td>0</td>\n",
       "      <td>-152.779569</td>\n",
       "      <td>50</td>\n",
       "      <td>СРЕДНЕЕ</td>\n",
       "      <td>1</td>\n",
       "      <td>женат / замужем</td>\n",
       "      <td>0</td>\n",
       "      <td>M</td>\n",
       "      <td>сотрудник</td>\n",
       "      <td>0</td>\n",
       "      <td>135823.934197</td>\n",
       "      <td>образование</td>\n",
       "    </tr>\n",
       "    <tr>\n",
       "      <th>8</th>\n",
       "      <td>2</td>\n",
       "      <td>-6929.865299</td>\n",
       "      <td>35</td>\n",
       "      <td>ВЫСШЕЕ</td>\n",
       "      <td>0</td>\n",
       "      <td>гражданский брак</td>\n",
       "      <td>1</td>\n",
       "      <td>F</td>\n",
       "      <td>сотрудник</td>\n",
       "      <td>0</td>\n",
       "      <td>95856.832424</td>\n",
       "      <td>на проведение свадьбы</td>\n",
       "    </tr>\n",
       "    <tr>\n",
       "      <th>9</th>\n",
       "      <td>0</td>\n",
       "      <td>-2188.756445</td>\n",
       "      <td>41</td>\n",
       "      <td>среднее</td>\n",
       "      <td>1</td>\n",
       "      <td>женат / замужем</td>\n",
       "      <td>0</td>\n",
       "      <td>M</td>\n",
       "      <td>сотрудник</td>\n",
       "      <td>0</td>\n",
       "      <td>144425.938277</td>\n",
       "      <td>покупка жилья для семьи</td>\n",
       "    </tr>\n",
       "    <tr>\n",
       "      <th>10</th>\n",
       "      <td>2</td>\n",
       "      <td>-4171.483647</td>\n",
       "      <td>36</td>\n",
       "      <td>высшее</td>\n",
       "      <td>0</td>\n",
       "      <td>женат / замужем</td>\n",
       "      <td>0</td>\n",
       "      <td>M</td>\n",
       "      <td>компаньон</td>\n",
       "      <td>0</td>\n",
       "      <td>113943.491460</td>\n",
       "      <td>покупка недвижимости</td>\n",
       "    </tr>\n",
       "    <tr>\n",
       "      <th>11</th>\n",
       "      <td>0</td>\n",
       "      <td>-792.701887</td>\n",
       "      <td>40</td>\n",
       "      <td>среднее</td>\n",
       "      <td>1</td>\n",
       "      <td>женат / замужем</td>\n",
       "      <td>0</td>\n",
       "      <td>F</td>\n",
       "      <td>сотрудник</td>\n",
       "      <td>0</td>\n",
       "      <td>77069.234271</td>\n",
       "      <td>покупка коммерческой недвижимости</td>\n",
       "    </tr>\n",
       "    <tr>\n",
       "      <th>12</th>\n",
       "      <td>0</td>\n",
       "      <td>NaN</td>\n",
       "      <td>65</td>\n",
       "      <td>среднее</td>\n",
       "      <td>1</td>\n",
       "      <td>гражданский брак</td>\n",
       "      <td>1</td>\n",
       "      <td>M</td>\n",
       "      <td>пенсионер</td>\n",
       "      <td>0</td>\n",
       "      <td>NaN</td>\n",
       "      <td>сыграть свадьбу</td>\n",
       "    </tr>\n",
       "    <tr>\n",
       "      <th>13</th>\n",
       "      <td>0</td>\n",
       "      <td>-1846.641941</td>\n",
       "      <td>54</td>\n",
       "      <td>неоконченное высшее</td>\n",
       "      <td>2</td>\n",
       "      <td>женат / замужем</td>\n",
       "      <td>0</td>\n",
       "      <td>F</td>\n",
       "      <td>сотрудник</td>\n",
       "      <td>0</td>\n",
       "      <td>130458.228857</td>\n",
       "      <td>приобретение автомобиля</td>\n",
       "    </tr>\n",
       "    <tr>\n",
       "      <th>14</th>\n",
       "      <td>0</td>\n",
       "      <td>-1844.956182</td>\n",
       "      <td>56</td>\n",
       "      <td>высшее</td>\n",
       "      <td>0</td>\n",
       "      <td>гражданский брак</td>\n",
       "      <td>1</td>\n",
       "      <td>F</td>\n",
       "      <td>компаньон</td>\n",
       "      <td>1</td>\n",
       "      <td>165127.911772</td>\n",
       "      <td>покупка жилой недвижимости</td>\n",
       "    </tr>\n",
       "    <tr>\n",
       "      <th>15</th>\n",
       "      <td>1</td>\n",
       "      <td>-972.364419</td>\n",
       "      <td>26</td>\n",
       "      <td>среднее</td>\n",
       "      <td>1</td>\n",
       "      <td>женат / замужем</td>\n",
       "      <td>0</td>\n",
       "      <td>F</td>\n",
       "      <td>сотрудник</td>\n",
       "      <td>0</td>\n",
       "      <td>116820.904450</td>\n",
       "      <td>строительство собственной недвижимости</td>\n",
       "    </tr>\n",
       "    <tr>\n",
       "      <th>16</th>\n",
       "      <td>0</td>\n",
       "      <td>-1719.934226</td>\n",
       "      <td>35</td>\n",
       "      <td>среднее</td>\n",
       "      <td>1</td>\n",
       "      <td>женат / замужем</td>\n",
       "      <td>0</td>\n",
       "      <td>F</td>\n",
       "      <td>сотрудник</td>\n",
       "      <td>0</td>\n",
       "      <td>289202.704229</td>\n",
       "      <td>недвижимость</td>\n",
       "    </tr>\n",
       "    <tr>\n",
       "      <th>17</th>\n",
       "      <td>0</td>\n",
       "      <td>-2369.999720</td>\n",
       "      <td>33</td>\n",
       "      <td>высшее</td>\n",
       "      <td>0</td>\n",
       "      <td>гражданский брак</td>\n",
       "      <td>1</td>\n",
       "      <td>M</td>\n",
       "      <td>сотрудник</td>\n",
       "      <td>0</td>\n",
       "      <td>90410.586745</td>\n",
       "      <td>строительство недвижимости</td>\n",
       "    </tr>\n",
       "    <tr>\n",
       "      <th>18</th>\n",
       "      <td>0</td>\n",
       "      <td>400281.136913</td>\n",
       "      <td>53</td>\n",
       "      <td>среднее</td>\n",
       "      <td>1</td>\n",
       "      <td>вдовец / вдова</td>\n",
       "      <td>2</td>\n",
       "      <td>F</td>\n",
       "      <td>пенсионер</td>\n",
       "      <td>0</td>\n",
       "      <td>56823.777243</td>\n",
       "      <td>на покупку подержанного автомобиля</td>\n",
       "    </tr>\n",
       "    <tr>\n",
       "      <th>19</th>\n",
       "      <td>0</td>\n",
       "      <td>-10038.818549</td>\n",
       "      <td>48</td>\n",
       "      <td>СРЕДНЕЕ</td>\n",
       "      <td>1</td>\n",
       "      <td>в разводе</td>\n",
       "      <td>3</td>\n",
       "      <td>F</td>\n",
       "      <td>сотрудник</td>\n",
       "      <td>0</td>\n",
       "      <td>242831.107982</td>\n",
       "      <td>на покупку своего автомобиля</td>\n",
       "    </tr>\n",
       "  </tbody>\n",
       "</table>\n",
       "</div>"
      ],
      "text/plain": [
       "    children  days_employed  dob_years            education  education_id  \\\n",
       "0          1   -8437.673028         42               высшее             0   \n",
       "1          1   -4024.803754         36              среднее             1   \n",
       "2          0   -5623.422610         33              Среднее             1   \n",
       "3          3   -4124.747207         32              среднее             1   \n",
       "4          0  340266.072047         53              среднее             1   \n",
       "5          0    -926.185831         27               высшее             0   \n",
       "6          0   -2879.202052         43               высшее             0   \n",
       "7          0    -152.779569         50              СРЕДНЕЕ             1   \n",
       "8          2   -6929.865299         35               ВЫСШЕЕ             0   \n",
       "9          0   -2188.756445         41              среднее             1   \n",
       "10         2   -4171.483647         36               высшее             0   \n",
       "11         0    -792.701887         40              среднее             1   \n",
       "12         0            NaN         65              среднее             1   \n",
       "13         0   -1846.641941         54  неоконченное высшее             2   \n",
       "14         0   -1844.956182         56               высшее             0   \n",
       "15         1    -972.364419         26              среднее             1   \n",
       "16         0   -1719.934226         35              среднее             1   \n",
       "17         0   -2369.999720         33               высшее             0   \n",
       "18         0  400281.136913         53              среднее             1   \n",
       "19         0  -10038.818549         48              СРЕДНЕЕ             1   \n",
       "\n",
       "       family_status  family_status_id gender income_type  debt  \\\n",
       "0    женат / замужем                 0      F   сотрудник     0   \n",
       "1    женат / замужем                 0      F   сотрудник     0   \n",
       "2    женат / замужем                 0      M   сотрудник     0   \n",
       "3    женат / замужем                 0      M   сотрудник     0   \n",
       "4   гражданский брак                 1      F   пенсионер     0   \n",
       "5   гражданский брак                 1      M   компаньон     0   \n",
       "6    женат / замужем                 0      F   компаньон     0   \n",
       "7    женат / замужем                 0      M   сотрудник     0   \n",
       "8   гражданский брак                 1      F   сотрудник     0   \n",
       "9    женат / замужем                 0      M   сотрудник     0   \n",
       "10   женат / замужем                 0      M   компаньон     0   \n",
       "11   женат / замужем                 0      F   сотрудник     0   \n",
       "12  гражданский брак                 1      M   пенсионер     0   \n",
       "13   женат / замужем                 0      F   сотрудник     0   \n",
       "14  гражданский брак                 1      F   компаньон     1   \n",
       "15   женат / замужем                 0      F   сотрудник     0   \n",
       "16   женат / замужем                 0      F   сотрудник     0   \n",
       "17  гражданский брак                 1      M   сотрудник     0   \n",
       "18    вдовец / вдова                 2      F   пенсионер     0   \n",
       "19         в разводе                 3      F   сотрудник     0   \n",
       "\n",
       "     total_income                                 purpose  \n",
       "0   253875.639453                           покупка жилья  \n",
       "1   112080.014102                 приобретение автомобиля  \n",
       "2   145885.952297                           покупка жилья  \n",
       "3   267628.550329              дополнительное образование  \n",
       "4   158616.077870                         сыграть свадьбу  \n",
       "5   255763.565419                           покупка жилья  \n",
       "6   240525.971920                       операции с жильем  \n",
       "7   135823.934197                             образование  \n",
       "8    95856.832424                   на проведение свадьбы  \n",
       "9   144425.938277                 покупка жилья для семьи  \n",
       "10  113943.491460                    покупка недвижимости  \n",
       "11   77069.234271       покупка коммерческой недвижимости  \n",
       "12            NaN                         сыграть свадьбу  \n",
       "13  130458.228857                 приобретение автомобиля  \n",
       "14  165127.911772              покупка жилой недвижимости  \n",
       "15  116820.904450  строительство собственной недвижимости  \n",
       "16  289202.704229                            недвижимость  \n",
       "17   90410.586745              строительство недвижимости  \n",
       "18   56823.777243      на покупку подержанного автомобиля  \n",
       "19  242831.107982            на покупку своего автомобиля  "
      ]
     },
     "execution_count": 2,
     "metadata": {},
     "output_type": "execute_result"
    }
   ],
   "source": [
    "data.head(20)"
   ]
  },
  {
   "cell_type": "markdown",
   "id": "0ed8f27f",
   "metadata": {
    "deletable": false,
    "editable": false,
    "id": "0ed8f27f"
   },
   "source": [
    "**Задание 3. Выведите основную информацию о датафрейме с помощью метода `info()`.**"
   ]
  },
  {
   "cell_type": "code",
   "execution_count": 3,
   "id": "ab3f863b",
   "metadata": {
    "deletable": false,
    "id": "ab3f863b",
    "outputId": "15376089-8dad-46c9-b520-c05248d43158"
   },
   "outputs": [
    {
     "name": "stdout",
     "output_type": "stream",
     "text": [
      "<class 'pandas.core.frame.DataFrame'>\n",
      "RangeIndex: 21525 entries, 0 to 21524\n",
      "Data columns (total 12 columns):\n",
      " #   Column            Non-Null Count  Dtype  \n",
      "---  ------            --------------  -----  \n",
      " 0   children          21525 non-null  int64  \n",
      " 1   days_employed     19351 non-null  float64\n",
      " 2   dob_years         21525 non-null  int64  \n",
      " 3   education         21525 non-null  object \n",
      " 4   education_id      21525 non-null  int64  \n",
      " 5   family_status     21525 non-null  object \n",
      " 6   family_status_id  21525 non-null  int64  \n",
      " 7   gender            21525 non-null  object \n",
      " 8   income_type       21525 non-null  object \n",
      " 9   debt              21525 non-null  int64  \n",
      " 10  total_income      19351 non-null  float64\n",
      " 11  purpose           21525 non-null  object \n",
      "dtypes: float64(2), int64(5), object(5)\n",
      "memory usage: 2.0+ MB\n"
     ]
    }
   ],
   "source": [
    "data.info()"
   ]
  },
  {
   "cell_type": "markdown",
   "id": "60e3e22d",
   "metadata": {
    "deletable": false,
    "editable": false,
    "id": "60e3e22d"
   },
   "source": [
    "## Предобработка данных"
   ]
  },
  {
   "cell_type": "markdown",
   "id": "03dc170c",
   "metadata": {
    "deletable": false,
    "editable": false,
    "id": "03dc170c"
   },
   "source": [
    "### Удаление пропусков"
   ]
  },
  {
   "cell_type": "markdown",
   "id": "a4f54eef",
   "metadata": {
    "deletable": false,
    "editable": false,
    "id": "a4f54eef"
   },
   "source": [
    "**Задание 4. Выведите количество пропущенных значений для каждого столбца. Используйте комбинацию двух методов.**"
   ]
  },
  {
   "cell_type": "code",
   "execution_count": 4,
   "id": "2dc372b2",
   "metadata": {
    "deletable": false,
    "id": "2dc372b2",
    "outputId": "81f4d817-781c-465c-ed15-91ce4446810d"
   },
   "outputs": [
    {
     "data": {
      "text/plain": [
       "children               0\n",
       "days_employed       2174\n",
       "dob_years              0\n",
       "education              0\n",
       "education_id           0\n",
       "family_status          0\n",
       "family_status_id       0\n",
       "gender                 0\n",
       "income_type            0\n",
       "debt                   0\n",
       "total_income        2174\n",
       "purpose                0\n",
       "dtype: int64"
      ]
     },
     "execution_count": 4,
     "metadata": {},
     "output_type": "execute_result"
    }
   ],
   "source": [
    "data.isna().sum()"
   ]
  },
  {
   "cell_type": "markdown",
   "id": "14f011b1",
   "metadata": {
    "deletable": false,
    "editable": false,
    "id": "14f011b1"
   },
   "source": [
    "**Задание 5. В двух столбцах есть пропущенные значения. Один из них — `days_employed`. Пропуски в этом столбце вы обработаете на следующем этапе. Другой столбец с пропущенными значениями — `total_income` — хранит данные о доходах. На сумму дохода сильнее всего влияет тип занятости, поэтому заполнить пропуски в этом столбце нужно медианным значением по каждому типу из столбца `income_type`. Например, у человека с типом занятости `сотрудник` пропуск в столбце `total_income` должен быть заполнен медианным доходом среди всех записей с тем же типом.**"
   ]
  },
  {
   "cell_type": "code",
   "execution_count": 5,
   "id": "bdabfb6e",
   "metadata": {
    "deletable": false,
    "id": "bdabfb6e"
   },
   "outputs": [],
   "source": [
    "for t in data['income_type'].unique():\n",
    "    data.loc[(data['income_type'] == t) & (data['total_income'].isna()), 'total_income'] = \\\n",
    "    data.loc[(data['income_type'] == t), 'total_income'].median()"
   ]
  },
  {
   "cell_type": "markdown",
   "id": "5be34059",
   "metadata": {
    "deletable": false,
    "editable": false,
    "id": "5be34059"
   },
   "source": [
    "### Обработка аномальных значений"
   ]
  },
  {
   "cell_type": "markdown",
   "id": "a87606cb",
   "metadata": {
    "deletable": false,
    "editable": false,
    "id": "a87606cb"
   },
   "source": [
    "**Задание 6. В данных могут встречаться артефакты (аномалии) — значения, которые не отражают действительность и появились по какой-то ошибке. таким артефактом будет отрицательное количество дней трудового стажа в столбце `days_employed`. Для реальных данных это нормально. Обработайте значения в этом столбце: замените все отрицательные значения положительными с помощью метода `abs()`.**"
   ]
  },
  {
   "cell_type": "code",
   "execution_count": 6,
   "id": "020c46cc",
   "metadata": {
    "deletable": false,
    "id": "020c46cc"
   },
   "outputs": [],
   "source": [
    "data['days_employed'] = data['days_employed'].abs()"
   ]
  },
  {
   "cell_type": "markdown",
   "id": "45538a3a",
   "metadata": {
    "deletable": false,
    "editable": false,
    "id": "45538a3a"
   },
   "source": [
    "**Задание 7. Для каждого типа занятости выведите медианное значение трудового стажа `days_employed` в днях.**"
   ]
  },
  {
   "cell_type": "code",
   "execution_count": 7,
   "id": "cd3e6328",
   "metadata": {
    "deletable": false,
    "id": "cd3e6328",
    "outputId": "801ef80e-522b-4668-f34e-565af7432bcf"
   },
   "outputs": [
    {
     "data": {
      "text/plain": [
       "income_type\n",
       "безработный        366413.652744\n",
       "в декрете            3296.759962\n",
       "госслужащий          2689.368353\n",
       "компаньон            1547.382223\n",
       "пенсионер          365213.306266\n",
       "предприниматель       520.848083\n",
       "сотрудник            1574.202821\n",
       "студент               578.751554\n",
       "Name: days_employed, dtype: float64"
      ]
     },
     "execution_count": 7,
     "metadata": {},
     "output_type": "execute_result"
    }
   ],
   "source": [
    "data.groupby('income_type')['days_employed'].agg('median')"
   ]
  },
  {
   "cell_type": "markdown",
   "id": "90c5f058",
   "metadata": {
    "deletable": false,
    "editable": false,
    "id": "90c5f058"
   },
   "source": [
    "У двух типов (безработные и пенсионеры) получатся аномально большие значения. Исправить такие значения сложно, поэтому оставьте их как есть."
   ]
  },
  {
   "cell_type": "markdown",
   "id": "9652e50d",
   "metadata": {
    "deletable": false,
    "editable": false,
    "id": "9652e50d"
   },
   "source": [
    "**Задание 8. Выведите перечень уникальных значений столбца `children`.**"
   ]
  },
  {
   "cell_type": "code",
   "execution_count": 8,
   "id": "dbb37b8e",
   "metadata": {
    "deletable": false,
    "id": "dbb37b8e",
    "outputId": "6975b15c-7f95-4697-d16d-a0c79b657b03"
   },
   "outputs": [
    {
     "data": {
      "text/plain": [
       "array([ 1,  0,  3,  2, -1,  4, 20,  5])"
      ]
     },
     "execution_count": 8,
     "metadata": {},
     "output_type": "execute_result"
    }
   ],
   "source": [
    "data['children'].unique()"
   ]
  },
  {
   "cell_type": "markdown",
   "id": "2b8b0715",
   "metadata": {
    "deletable": false,
    "editable": false,
    "id": "2b8b0715"
   },
   "source": [
    "**Задание 9. В столбце `children` есть два аномальных значения. Удалите строки, в которых встречаются такие аномальные значения из датафрейма `data`.**"
   ]
  },
  {
   "cell_type": "code",
   "execution_count": 9,
   "id": "20009df8",
   "metadata": {
    "deletable": false,
    "id": "20009df8"
   },
   "outputs": [],
   "source": [
    "data = data[(data['children'] != -1) & (data['children'] != 20)]"
   ]
  },
  {
   "cell_type": "markdown",
   "id": "8c6ac9f1",
   "metadata": {
    "deletable": false,
    "editable": false,
    "id": "8c6ac9f1"
   },
   "source": [
    "**Задание 10. Ещё раз выведите перечень уникальных значений столбца `children`, чтобы убедиться, что артефакты удалены.**"
   ]
  },
  {
   "cell_type": "code",
   "execution_count": 10,
   "id": "07337b81",
   "metadata": {
    "deletable": false,
    "id": "07337b81",
    "outputId": "b2097101-d49d-44d9-901b-32a65c9463d1"
   },
   "outputs": [
    {
     "data": {
      "text/plain": [
       "array([1, 0, 3, 2, 4, 5])"
      ]
     },
     "execution_count": 10,
     "metadata": {},
     "output_type": "execute_result"
    }
   ],
   "source": [
    "data['children'].unique()"
   ]
  },
  {
   "cell_type": "markdown",
   "id": "ee3f52d4",
   "metadata": {
    "deletable": false,
    "editable": false,
    "id": "ee3f52d4"
   },
   "source": [
    "### Удаление пропусков (продолжение)"
   ]
  },
  {
   "cell_type": "markdown",
   "id": "a700b0e4",
   "metadata": {
    "deletable": false,
    "editable": false,
    "id": "a700b0e4"
   },
   "source": [
    "**Задание 11. Заполните пропуски в столбце `days_employed` медианными значениями по каждого типа занятости `income_type`.**"
   ]
  },
  {
   "cell_type": "code",
   "execution_count": 11,
   "id": "61946b83",
   "metadata": {
    "deletable": false,
    "id": "61946b83"
   },
   "outputs": [],
   "source": [
    "for t in data['income_type'].unique():\n",
    "    data.loc[(data['income_type'] == t) & (data['days_employed'].isna()), 'days_employed'] = \\\n",
    "    data.loc[(data['income_type'] == t), 'days_employed'].median()"
   ]
  },
  {
   "cell_type": "markdown",
   "id": "550dcd9b",
   "metadata": {
    "deletable": false,
    "editable": false,
    "id": "550dcd9b"
   },
   "source": [
    "**Задание 12. Убедитесь, что все пропуски заполнены. Проверьте себя и ещё раз выведите количество пропущенных значений для каждого столбца с помощью двух методов.**"
   ]
  },
  {
   "cell_type": "code",
   "execution_count": 12,
   "id": "937c7014",
   "metadata": {
    "deletable": false,
    "id": "937c7014",
    "outputId": "8da1e4e1-358e-4e87-98c9-f261bce0a7b2"
   },
   "outputs": [
    {
     "data": {
      "text/plain": [
       "children            0\n",
       "days_employed       0\n",
       "dob_years           0\n",
       "education           0\n",
       "education_id        0\n",
       "family_status       0\n",
       "family_status_id    0\n",
       "gender              0\n",
       "income_type         0\n",
       "debt                0\n",
       "total_income        0\n",
       "purpose             0\n",
       "dtype: int64"
      ]
     },
     "execution_count": 12,
     "metadata": {},
     "output_type": "execute_result"
    }
   ],
   "source": [
    "data.isna().sum()"
   ]
  },
  {
   "cell_type": "markdown",
   "id": "d522e295",
   "metadata": {
    "deletable": false,
    "editable": false,
    "id": "d522e295"
   },
   "source": [
    "### Изменение типов данных"
   ]
  },
  {
   "cell_type": "markdown",
   "id": "c229c581",
   "metadata": {
    "deletable": false,
    "editable": false,
    "id": "c229c581"
   },
   "source": [
    "**Задание 13. Замените вещественный тип данных в столбце `total_income` на целочисленный с помощью метода `astype()`.**"
   ]
  },
  {
   "cell_type": "code",
   "execution_count": 13,
   "id": "31036462",
   "metadata": {
    "deletable": false,
    "id": "31036462"
   },
   "outputs": [],
   "source": [
    "data['total_income'] = data['total_income'].astype(int)"
   ]
  },
  {
   "cell_type": "markdown",
   "id": "b8e3d1d9",
   "metadata": {
    "deletable": false,
    "editable": false,
    "id": "b8e3d1d9"
   },
   "source": [
    "### Обработка дубликатов"
   ]
  },
  {
   "cell_type": "markdown",
   "id": "9be53c49",
   "metadata": {
    "deletable": false,
    "editable": false,
    "id": "9be53c49"
   },
   "source": [
    "**Задание 14. Обработайте неявные дубликаты в столбце `education`. В этом столбце есть одни и те же значения, но записанные по-разному: с использованием заглавных и строчных букв. Приведите их к нижнему регистру.**"
   ]
  },
  {
   "cell_type": "code",
   "execution_count": 14,
   "id": "d89e73e1",
   "metadata": {
    "deletable": false,
    "id": "d89e73e1"
   },
   "outputs": [],
   "source": [
    "data['education'] = data['education'].str.lower()"
   ]
  },
  {
   "cell_type": "markdown",
   "id": "01d4500e",
   "metadata": {
    "deletable": false,
    "editable": false,
    "id": "01d4500e"
   },
   "source": [
    "**Задание 15. Выведите на экран количество строк-дубликатов в данных. Если такие строки присутствуют, удалите их.**"
   ]
  },
  {
   "cell_type": "code",
   "execution_count": 15,
   "id": "e10efb23",
   "metadata": {
    "deletable": false,
    "id": "e10efb23",
    "outputId": "9684deba-1934-42d1-99e1-cda61740f822"
   },
   "outputs": [
    {
     "data": {
      "text/plain": [
       "71"
      ]
     },
     "execution_count": 15,
     "metadata": {},
     "output_type": "execute_result"
    }
   ],
   "source": [
    "data.duplicated().sum()"
   ]
  },
  {
   "cell_type": "code",
   "execution_count": 16,
   "id": "df853f20",
   "metadata": {
    "deletable": false,
    "id": "df853f20"
   },
   "outputs": [],
   "source": [
    "data = data.drop_duplicates()"
   ]
  },
  {
   "cell_type": "markdown",
   "id": "627be38f",
   "metadata": {
    "deletable": false,
    "editable": false,
    "id": "627be38f"
   },
   "source": [
    "### Категоризация данных"
   ]
  },
  {
   "cell_type": "markdown",
   "id": "4684c3e0",
   "metadata": {
    "deletable": false,
    "editable": false,
    "id": "4684c3e0"
   },
   "source": [
    "**Задание 16. На основании диапазонов, указанных ниже, создайте в датафрейме `data` столбец `total_income_category` с категориями:**\n",
    "\n",
    "- 0–30000 — `'E'`;\n",
    "- 30001–50000 — `'D'`;\n",
    "- 50001–200000 — `'C'`;\n",
    "- 200001–1000000 — `'B'`;\n",
    "- 1000001 и выше — `'A'`.\n",
    "\n",
    "\n",
    "**Например, кредитополучателю с доходом 25000 нужно назначить категорию `'E'`, а клиенту, получающему 235000, — `'B'`. Используйте собственную функцию с именем `categorize_income()` и метод `apply()`.**"
   ]
  },
  {
   "cell_type": "code",
   "execution_count": 17,
   "id": "78965238",
   "metadata": {
    "deletable": false,
    "id": "78965238"
   },
   "outputs": [],
   "source": [
    "def categorize_income(income):\n",
    "    try:\n",
    "        if 0 <= income <= 30000:\n",
    "            return 'E'\n",
    "        elif 30001 <= income <= 50000:\n",
    "            return 'D'\n",
    "        elif 50001 <= income <= 200000:\n",
    "            return 'C'\n",
    "        elif 200001 <= income <= 1000000:\n",
    "            return 'B'\n",
    "        elif income >= 1000001:\n",
    "            return 'A'\n",
    "    except:\n",
    "        pass"
   ]
  },
  {
   "cell_type": "code",
   "execution_count": 18,
   "id": "0980ada1",
   "metadata": {
    "deletable": false,
    "id": "0980ada1"
   },
   "outputs": [],
   "source": [
    "data['total_income_category'] = data['total_income'].apply(categorize_income)"
   ]
  },
  {
   "cell_type": "markdown",
   "id": "9917bba0",
   "metadata": {
    "deletable": false,
    "editable": false,
    "id": "9917bba0"
   },
   "source": [
    "**Задание 17. Выведите на экран перечень уникальных целей взятия кредита из столбца `purpose`.**"
   ]
  },
  {
   "cell_type": "code",
   "execution_count": 19,
   "id": "ee07b65e",
   "metadata": {
    "deletable": false,
    "id": "ee07b65e",
    "outputId": "673c12d9-7d7e-4ae0-9812-c622c89dd244"
   },
   "outputs": [
    {
     "data": {
      "text/plain": [
       "array(['покупка жилья', 'приобретение автомобиля',\n",
       "       'дополнительное образование', 'сыграть свадьбу',\n",
       "       'операции с жильем', 'образование', 'на проведение свадьбы',\n",
       "       'покупка жилья для семьи', 'покупка недвижимости',\n",
       "       'покупка коммерческой недвижимости', 'покупка жилой недвижимости',\n",
       "       'строительство собственной недвижимости', 'недвижимость',\n",
       "       'строительство недвижимости', 'на покупку подержанного автомобиля',\n",
       "       'на покупку своего автомобиля',\n",
       "       'операции с коммерческой недвижимостью',\n",
       "       'строительство жилой недвижимости', 'жилье',\n",
       "       'операции со своей недвижимостью', 'автомобили',\n",
       "       'заняться образованием', 'сделка с подержанным автомобилем',\n",
       "       'получение образования', 'автомобиль', 'свадьба',\n",
       "       'получение дополнительного образования', 'покупка своего жилья',\n",
       "       'операции с недвижимостью', 'получение высшего образования',\n",
       "       'свой автомобиль', 'сделка с автомобилем',\n",
       "       'профильное образование', 'высшее образование',\n",
       "       'покупка жилья для сдачи', 'на покупку автомобиля', 'ремонт жилью',\n",
       "       'заняться высшим образованием'], dtype=object)"
      ]
     },
     "execution_count": 19,
     "metadata": {},
     "output_type": "execute_result"
    }
   ],
   "source": [
    "data['purpose'].unique()"
   ]
  },
  {
   "cell_type": "markdown",
   "id": "52b79d56",
   "metadata": {
    "deletable": false,
    "editable": false,
    "id": "52b79d56"
   },
   "source": [
    "**Задание 18. Создайте функцию, которая на основании данных из столбца `purpose` сформирует новый столбец `purpose_category`, в который войдут следующие категории:**\n",
    "\n",
    "- `'операции с автомобилем'`,\n",
    "- `'операции с недвижимостью'`,\n",
    "- `'проведение свадьбы'`,\n",
    "- `'получение образования'`.\n",
    "\n",
    "**Например, если в столбце `purpose` находится подстрока `'на покупку автомобиля'`, то в столбце `purpose_category` должна появиться строка `'операции с автомобилем'`.**\n",
    "\n",
    "**Используйте собственную функцию с именем `categorize_purpose()` и метод `apply()`. Изучите данные в столбце `purpose` и определите, какие подстроки помогут вам правильно определить категорию.**"
   ]
  },
  {
   "cell_type": "code",
   "execution_count": 20,
   "id": "be41da5d",
   "metadata": {
    "deletable": false,
    "id": "be41da5d"
   },
   "outputs": [],
   "source": [
    "def categorize_purpose(row):\n",
    "    try:\n",
    "        if 'автом' in row:\n",
    "            return 'операции с автомобилем'\n",
    "        elif 'жил' in row or 'недвиж' in row:\n",
    "            return 'операции с недвижимостью'\n",
    "        elif 'свад' in row:\n",
    "            return 'проведение свадьбы'\n",
    "        elif 'образов' in row:\n",
    "            return 'получение образования'\n",
    "    except:\n",
    "        return 'нет категории'"
   ]
  },
  {
   "cell_type": "code",
   "execution_count": 21,
   "id": "94c4a19a",
   "metadata": {
    "deletable": false,
    "id": "94c4a19a"
   },
   "outputs": [
    {
     "data": {
      "text/html": [
       "<div>\n",
       "<style scoped>\n",
       "    .dataframe tbody tr th:only-of-type {\n",
       "        vertical-align: middle;\n",
       "    }\n",
       "\n",
       "    .dataframe tbody tr th {\n",
       "        vertical-align: top;\n",
       "    }\n",
       "\n",
       "    .dataframe thead th {\n",
       "        text-align: right;\n",
       "    }\n",
       "</style>\n",
       "<table border=\"1\" class=\"dataframe\">\n",
       "  <thead>\n",
       "    <tr style=\"text-align: right;\">\n",
       "      <th></th>\n",
       "      <th>children</th>\n",
       "      <th>days_employed</th>\n",
       "      <th>dob_years</th>\n",
       "      <th>education</th>\n",
       "      <th>education_id</th>\n",
       "      <th>family_status</th>\n",
       "      <th>family_status_id</th>\n",
       "      <th>gender</th>\n",
       "      <th>income_type</th>\n",
       "      <th>debt</th>\n",
       "      <th>total_income</th>\n",
       "      <th>purpose</th>\n",
       "      <th>total_income_category</th>\n",
       "      <th>purpose_category</th>\n",
       "    </tr>\n",
       "  </thead>\n",
       "  <tbody>\n",
       "    <tr>\n",
       "      <th>0</th>\n",
       "      <td>1</td>\n",
       "      <td>8437.673028</td>\n",
       "      <td>42</td>\n",
       "      <td>высшее</td>\n",
       "      <td>0</td>\n",
       "      <td>женат / замужем</td>\n",
       "      <td>0</td>\n",
       "      <td>F</td>\n",
       "      <td>сотрудник</td>\n",
       "      <td>0</td>\n",
       "      <td>253875</td>\n",
       "      <td>покупка жилья</td>\n",
       "      <td>B</td>\n",
       "      <td>операции с недвижимостью</td>\n",
       "    </tr>\n",
       "    <tr>\n",
       "      <th>1</th>\n",
       "      <td>1</td>\n",
       "      <td>4024.803754</td>\n",
       "      <td>36</td>\n",
       "      <td>среднее</td>\n",
       "      <td>1</td>\n",
       "      <td>женат / замужем</td>\n",
       "      <td>0</td>\n",
       "      <td>F</td>\n",
       "      <td>сотрудник</td>\n",
       "      <td>0</td>\n",
       "      <td>112080</td>\n",
       "      <td>приобретение автомобиля</td>\n",
       "      <td>C</td>\n",
       "      <td>операции с автомобилем</td>\n",
       "    </tr>\n",
       "    <tr>\n",
       "      <th>2</th>\n",
       "      <td>0</td>\n",
       "      <td>5623.422610</td>\n",
       "      <td>33</td>\n",
       "      <td>среднее</td>\n",
       "      <td>1</td>\n",
       "      <td>женат / замужем</td>\n",
       "      <td>0</td>\n",
       "      <td>M</td>\n",
       "      <td>сотрудник</td>\n",
       "      <td>0</td>\n",
       "      <td>145885</td>\n",
       "      <td>покупка жилья</td>\n",
       "      <td>C</td>\n",
       "      <td>операции с недвижимостью</td>\n",
       "    </tr>\n",
       "    <tr>\n",
       "      <th>3</th>\n",
       "      <td>3</td>\n",
       "      <td>4124.747207</td>\n",
       "      <td>32</td>\n",
       "      <td>среднее</td>\n",
       "      <td>1</td>\n",
       "      <td>женат / замужем</td>\n",
       "      <td>0</td>\n",
       "      <td>M</td>\n",
       "      <td>сотрудник</td>\n",
       "      <td>0</td>\n",
       "      <td>267628</td>\n",
       "      <td>дополнительное образование</td>\n",
       "      <td>B</td>\n",
       "      <td>получение образования</td>\n",
       "    </tr>\n",
       "    <tr>\n",
       "      <th>4</th>\n",
       "      <td>0</td>\n",
       "      <td>340266.072047</td>\n",
       "      <td>53</td>\n",
       "      <td>среднее</td>\n",
       "      <td>1</td>\n",
       "      <td>гражданский брак</td>\n",
       "      <td>1</td>\n",
       "      <td>F</td>\n",
       "      <td>пенсионер</td>\n",
       "      <td>0</td>\n",
       "      <td>158616</td>\n",
       "      <td>сыграть свадьбу</td>\n",
       "      <td>C</td>\n",
       "      <td>проведение свадьбы</td>\n",
       "    </tr>\n",
       "    <tr>\n",
       "      <th>5</th>\n",
       "      <td>0</td>\n",
       "      <td>926.185831</td>\n",
       "      <td>27</td>\n",
       "      <td>высшее</td>\n",
       "      <td>0</td>\n",
       "      <td>гражданский брак</td>\n",
       "      <td>1</td>\n",
       "      <td>M</td>\n",
       "      <td>компаньон</td>\n",
       "      <td>0</td>\n",
       "      <td>255763</td>\n",
       "      <td>покупка жилья</td>\n",
       "      <td>B</td>\n",
       "      <td>операции с недвижимостью</td>\n",
       "    </tr>\n",
       "    <tr>\n",
       "      <th>6</th>\n",
       "      <td>0</td>\n",
       "      <td>2879.202052</td>\n",
       "      <td>43</td>\n",
       "      <td>высшее</td>\n",
       "      <td>0</td>\n",
       "      <td>женат / замужем</td>\n",
       "      <td>0</td>\n",
       "      <td>F</td>\n",
       "      <td>компаньон</td>\n",
       "      <td>0</td>\n",
       "      <td>240525</td>\n",
       "      <td>операции с жильем</td>\n",
       "      <td>B</td>\n",
       "      <td>операции с недвижимостью</td>\n",
       "    </tr>\n",
       "    <tr>\n",
       "      <th>7</th>\n",
       "      <td>0</td>\n",
       "      <td>152.779569</td>\n",
       "      <td>50</td>\n",
       "      <td>среднее</td>\n",
       "      <td>1</td>\n",
       "      <td>женат / замужем</td>\n",
       "      <td>0</td>\n",
       "      <td>M</td>\n",
       "      <td>сотрудник</td>\n",
       "      <td>0</td>\n",
       "      <td>135823</td>\n",
       "      <td>образование</td>\n",
       "      <td>C</td>\n",
       "      <td>получение образования</td>\n",
       "    </tr>\n",
       "    <tr>\n",
       "      <th>8</th>\n",
       "      <td>2</td>\n",
       "      <td>6929.865299</td>\n",
       "      <td>35</td>\n",
       "      <td>высшее</td>\n",
       "      <td>0</td>\n",
       "      <td>гражданский брак</td>\n",
       "      <td>1</td>\n",
       "      <td>F</td>\n",
       "      <td>сотрудник</td>\n",
       "      <td>0</td>\n",
       "      <td>95856</td>\n",
       "      <td>на проведение свадьбы</td>\n",
       "      <td>C</td>\n",
       "      <td>проведение свадьбы</td>\n",
       "    </tr>\n",
       "    <tr>\n",
       "      <th>9</th>\n",
       "      <td>0</td>\n",
       "      <td>2188.756445</td>\n",
       "      <td>41</td>\n",
       "      <td>среднее</td>\n",
       "      <td>1</td>\n",
       "      <td>женат / замужем</td>\n",
       "      <td>0</td>\n",
       "      <td>M</td>\n",
       "      <td>сотрудник</td>\n",
       "      <td>0</td>\n",
       "      <td>144425</td>\n",
       "      <td>покупка жилья для семьи</td>\n",
       "      <td>C</td>\n",
       "      <td>операции с недвижимостью</td>\n",
       "    </tr>\n",
       "    <tr>\n",
       "      <th>10</th>\n",
       "      <td>2</td>\n",
       "      <td>4171.483647</td>\n",
       "      <td>36</td>\n",
       "      <td>высшее</td>\n",
       "      <td>0</td>\n",
       "      <td>женат / замужем</td>\n",
       "      <td>0</td>\n",
       "      <td>M</td>\n",
       "      <td>компаньон</td>\n",
       "      <td>0</td>\n",
       "      <td>113943</td>\n",
       "      <td>покупка недвижимости</td>\n",
       "      <td>C</td>\n",
       "      <td>операции с недвижимостью</td>\n",
       "    </tr>\n",
       "    <tr>\n",
       "      <th>11</th>\n",
       "      <td>0</td>\n",
       "      <td>792.701887</td>\n",
       "      <td>40</td>\n",
       "      <td>среднее</td>\n",
       "      <td>1</td>\n",
       "      <td>женат / замужем</td>\n",
       "      <td>0</td>\n",
       "      <td>F</td>\n",
       "      <td>сотрудник</td>\n",
       "      <td>0</td>\n",
       "      <td>77069</td>\n",
       "      <td>покупка коммерческой недвижимости</td>\n",
       "      <td>C</td>\n",
       "      <td>операции с недвижимостью</td>\n",
       "    </tr>\n",
       "    <tr>\n",
       "      <th>12</th>\n",
       "      <td>0</td>\n",
       "      <td>365286.622650</td>\n",
       "      <td>65</td>\n",
       "      <td>среднее</td>\n",
       "      <td>1</td>\n",
       "      <td>гражданский брак</td>\n",
       "      <td>1</td>\n",
       "      <td>M</td>\n",
       "      <td>пенсионер</td>\n",
       "      <td>0</td>\n",
       "      <td>118514</td>\n",
       "      <td>сыграть свадьбу</td>\n",
       "      <td>C</td>\n",
       "      <td>проведение свадьбы</td>\n",
       "    </tr>\n",
       "    <tr>\n",
       "      <th>13</th>\n",
       "      <td>0</td>\n",
       "      <td>1846.641941</td>\n",
       "      <td>54</td>\n",
       "      <td>неоконченное высшее</td>\n",
       "      <td>2</td>\n",
       "      <td>женат / замужем</td>\n",
       "      <td>0</td>\n",
       "      <td>F</td>\n",
       "      <td>сотрудник</td>\n",
       "      <td>0</td>\n",
       "      <td>130458</td>\n",
       "      <td>приобретение автомобиля</td>\n",
       "      <td>C</td>\n",
       "      <td>операции с автомобилем</td>\n",
       "    </tr>\n",
       "    <tr>\n",
       "      <th>14</th>\n",
       "      <td>0</td>\n",
       "      <td>1844.956182</td>\n",
       "      <td>56</td>\n",
       "      <td>высшее</td>\n",
       "      <td>0</td>\n",
       "      <td>гражданский брак</td>\n",
       "      <td>1</td>\n",
       "      <td>F</td>\n",
       "      <td>компаньон</td>\n",
       "      <td>1</td>\n",
       "      <td>165127</td>\n",
       "      <td>покупка жилой недвижимости</td>\n",
       "      <td>C</td>\n",
       "      <td>операции с недвижимостью</td>\n",
       "    </tr>\n",
       "    <tr>\n",
       "      <th>15</th>\n",
       "      <td>1</td>\n",
       "      <td>972.364419</td>\n",
       "      <td>26</td>\n",
       "      <td>среднее</td>\n",
       "      <td>1</td>\n",
       "      <td>женат / замужем</td>\n",
       "      <td>0</td>\n",
       "      <td>F</td>\n",
       "      <td>сотрудник</td>\n",
       "      <td>0</td>\n",
       "      <td>116820</td>\n",
       "      <td>строительство собственной недвижимости</td>\n",
       "      <td>C</td>\n",
       "      <td>операции с недвижимостью</td>\n",
       "    </tr>\n",
       "    <tr>\n",
       "      <th>16</th>\n",
       "      <td>0</td>\n",
       "      <td>1719.934226</td>\n",
       "      <td>35</td>\n",
       "      <td>среднее</td>\n",
       "      <td>1</td>\n",
       "      <td>женат / замужем</td>\n",
       "      <td>0</td>\n",
       "      <td>F</td>\n",
       "      <td>сотрудник</td>\n",
       "      <td>0</td>\n",
       "      <td>289202</td>\n",
       "      <td>недвижимость</td>\n",
       "      <td>B</td>\n",
       "      <td>операции с недвижимостью</td>\n",
       "    </tr>\n",
       "    <tr>\n",
       "      <th>17</th>\n",
       "      <td>0</td>\n",
       "      <td>2369.999720</td>\n",
       "      <td>33</td>\n",
       "      <td>высшее</td>\n",
       "      <td>0</td>\n",
       "      <td>гражданский брак</td>\n",
       "      <td>1</td>\n",
       "      <td>M</td>\n",
       "      <td>сотрудник</td>\n",
       "      <td>0</td>\n",
       "      <td>90410</td>\n",
       "      <td>строительство недвижимости</td>\n",
       "      <td>C</td>\n",
       "      <td>операции с недвижимостью</td>\n",
       "    </tr>\n",
       "    <tr>\n",
       "      <th>18</th>\n",
       "      <td>0</td>\n",
       "      <td>400281.136913</td>\n",
       "      <td>53</td>\n",
       "      <td>среднее</td>\n",
       "      <td>1</td>\n",
       "      <td>вдовец / вдова</td>\n",
       "      <td>2</td>\n",
       "      <td>F</td>\n",
       "      <td>пенсионер</td>\n",
       "      <td>0</td>\n",
       "      <td>56823</td>\n",
       "      <td>на покупку подержанного автомобиля</td>\n",
       "      <td>C</td>\n",
       "      <td>операции с автомобилем</td>\n",
       "    </tr>\n",
       "    <tr>\n",
       "      <th>19</th>\n",
       "      <td>0</td>\n",
       "      <td>10038.818549</td>\n",
       "      <td>48</td>\n",
       "      <td>среднее</td>\n",
       "      <td>1</td>\n",
       "      <td>в разводе</td>\n",
       "      <td>3</td>\n",
       "      <td>F</td>\n",
       "      <td>сотрудник</td>\n",
       "      <td>0</td>\n",
       "      <td>242831</td>\n",
       "      <td>на покупку своего автомобиля</td>\n",
       "      <td>B</td>\n",
       "      <td>операции с автомобилем</td>\n",
       "    </tr>\n",
       "  </tbody>\n",
       "</table>\n",
       "</div>"
      ],
      "text/plain": [
       "    children  days_employed  dob_years            education  education_id  \\\n",
       "0          1    8437.673028         42               высшее             0   \n",
       "1          1    4024.803754         36              среднее             1   \n",
       "2          0    5623.422610         33              среднее             1   \n",
       "3          3    4124.747207         32              среднее             1   \n",
       "4          0  340266.072047         53              среднее             1   \n",
       "5          0     926.185831         27               высшее             0   \n",
       "6          0    2879.202052         43               высшее             0   \n",
       "7          0     152.779569         50              среднее             1   \n",
       "8          2    6929.865299         35               высшее             0   \n",
       "9          0    2188.756445         41              среднее             1   \n",
       "10         2    4171.483647         36               высшее             0   \n",
       "11         0     792.701887         40              среднее             1   \n",
       "12         0  365286.622650         65              среднее             1   \n",
       "13         0    1846.641941         54  неоконченное высшее             2   \n",
       "14         0    1844.956182         56               высшее             0   \n",
       "15         1     972.364419         26              среднее             1   \n",
       "16         0    1719.934226         35              среднее             1   \n",
       "17         0    2369.999720         33               высшее             0   \n",
       "18         0  400281.136913         53              среднее             1   \n",
       "19         0   10038.818549         48              среднее             1   \n",
       "\n",
       "       family_status  family_status_id gender income_type  debt  total_income  \\\n",
       "0    женат / замужем                 0      F   сотрудник     0        253875   \n",
       "1    женат / замужем                 0      F   сотрудник     0        112080   \n",
       "2    женат / замужем                 0      M   сотрудник     0        145885   \n",
       "3    женат / замужем                 0      M   сотрудник     0        267628   \n",
       "4   гражданский брак                 1      F   пенсионер     0        158616   \n",
       "5   гражданский брак                 1      M   компаньон     0        255763   \n",
       "6    женат / замужем                 0      F   компаньон     0        240525   \n",
       "7    женат / замужем                 0      M   сотрудник     0        135823   \n",
       "8   гражданский брак                 1      F   сотрудник     0         95856   \n",
       "9    женат / замужем                 0      M   сотрудник     0        144425   \n",
       "10   женат / замужем                 0      M   компаньон     0        113943   \n",
       "11   женат / замужем                 0      F   сотрудник     0         77069   \n",
       "12  гражданский брак                 1      M   пенсионер     0        118514   \n",
       "13   женат / замужем                 0      F   сотрудник     0        130458   \n",
       "14  гражданский брак                 1      F   компаньон     1        165127   \n",
       "15   женат / замужем                 0      F   сотрудник     0        116820   \n",
       "16   женат / замужем                 0      F   сотрудник     0        289202   \n",
       "17  гражданский брак                 1      M   сотрудник     0         90410   \n",
       "18    вдовец / вдова                 2      F   пенсионер     0         56823   \n",
       "19         в разводе                 3      F   сотрудник     0        242831   \n",
       "\n",
       "                                   purpose total_income_category  \\\n",
       "0                            покупка жилья                     B   \n",
       "1                  приобретение автомобиля                     C   \n",
       "2                            покупка жилья                     C   \n",
       "3               дополнительное образование                     B   \n",
       "4                          сыграть свадьбу                     C   \n",
       "5                            покупка жилья                     B   \n",
       "6                        операции с жильем                     B   \n",
       "7                              образование                     C   \n",
       "8                    на проведение свадьбы                     C   \n",
       "9                  покупка жилья для семьи                     C   \n",
       "10                    покупка недвижимости                     C   \n",
       "11       покупка коммерческой недвижимости                     C   \n",
       "12                         сыграть свадьбу                     C   \n",
       "13                 приобретение автомобиля                     C   \n",
       "14              покупка жилой недвижимости                     C   \n",
       "15  строительство собственной недвижимости                     C   \n",
       "16                            недвижимость                     B   \n",
       "17              строительство недвижимости                     C   \n",
       "18      на покупку подержанного автомобиля                     C   \n",
       "19            на покупку своего автомобиля                     B   \n",
       "\n",
       "            purpose_category  \n",
       "0   операции с недвижимостью  \n",
       "1     операции с автомобилем  \n",
       "2   операции с недвижимостью  \n",
       "3      получение образования  \n",
       "4         проведение свадьбы  \n",
       "5   операции с недвижимостью  \n",
       "6   операции с недвижимостью  \n",
       "7      получение образования  \n",
       "8         проведение свадьбы  \n",
       "9   операции с недвижимостью  \n",
       "10  операции с недвижимостью  \n",
       "11  операции с недвижимостью  \n",
       "12        проведение свадьбы  \n",
       "13    операции с автомобилем  \n",
       "14  операции с недвижимостью  \n",
       "15  операции с недвижимостью  \n",
       "16  операции с недвижимостью  \n",
       "17  операции с недвижимостью  \n",
       "18    операции с автомобилем  \n",
       "19    операции с автомобилем  "
      ]
     },
     "execution_count": 21,
     "metadata": {},
     "output_type": "execute_result"
    }
   ],
   "source": [
    "data['purpose_category'] = data['purpose'].apply(categorize_purpose)\n",
    "data.head(20)"
   ]
  },
  {
   "cell_type": "markdown",
   "id": "3d596c34",
   "metadata": {
    "deletable": false,
    "editable": false,
    "id": "3d596c34"
   },
   "source": [
    "### Шаг 3. Исследуйте данные и ответьте на вопросы"
   ]
  },
  {
   "cell_type": "markdown",
   "id": "e3c4a56c",
   "metadata": {},
   "source": [
    "Далее нам предстоит определить, какие факторы могут влиять на возврат кредита в срок.\n",
    "\n",
    "Такими факторами могут быть:\n",
    "1. Наличие, или отсутствие детей.\n",
    "2. Семейное положение.\n",
    "3. Уровень дохода заёмщика.\n",
    "\n",
    "Разумеется это не единственные факторы, которые могут влиять на вероятность возврата кредита. Но в данной работе мы исследуем влияние приведённых выше факторов."
   ]
  },
  {
   "cell_type": "markdown",
   "id": "648db036",
   "metadata": {
    "deletable": false,
    "editable": false,
    "id": "648db036"
   },
   "source": [
    "#### 3.1 Есть ли зависимость между количеством детей и возвратом кредита в срок?"
   ]
  },
  {
   "cell_type": "markdown",
   "id": "9065b098",
   "metadata": {},
   "source": [
    "Для начала мы попытаемся определить, влияет ли в принципе наличие/отсутствие детей на возврат кредита в срок. Для этого мы создадим дополнительный столбец `children_id`, значения в котором могут принимать 1 в случае наличия детей, и 0 в случае их отсутствия.\n",
    "\n",
    "После этого мы создадим сводную таблицу `data_pivot_children_id`, сгруппированную по признаку наличия/отсутствия детей (т.е. по столбцу `children_id`) со значениями стоблца `debt`, к которому мы применяем функции `sum`, `count`, и `mean`. Таким образом мы сможем найти колличество \"должников\" по отношению к общему колличеству людей в заданной категории."
   ]
  },
  {
   "cell_type": "code",
   "execution_count": 22,
   "id": "7fcff25e",
   "metadata": {
    "deletable": false,
    "id": "7fcff25e"
   },
   "outputs": [
    {
     "data": {
      "text/html": [
       "<div>\n",
       "<style scoped>\n",
       "    .dataframe tbody tr th:only-of-type {\n",
       "        vertical-align: middle;\n",
       "    }\n",
       "\n",
       "    .dataframe tbody tr th {\n",
       "        vertical-align: top;\n",
       "    }\n",
       "\n",
       "    .dataframe thead th {\n",
       "        text-align: right;\n",
       "    }\n",
       "</style>\n",
       "<table border=\"1\" class=\"dataframe\">\n",
       "  <thead>\n",
       "    <tr style=\"text-align: right;\">\n",
       "      <th></th>\n",
       "      <th>debt_sum</th>\n",
       "      <th>total</th>\n",
       "      <th>debt_mean</th>\n",
       "    </tr>\n",
       "    <tr>\n",
       "      <th>children_id</th>\n",
       "      <th></th>\n",
       "      <th></th>\n",
       "      <th></th>\n",
       "    </tr>\n",
       "  </thead>\n",
       "  <tbody>\n",
       "    <tr>\n",
       "      <th>0</th>\n",
       "      <td>1063</td>\n",
       "      <td>14091</td>\n",
       "      <td>7.54</td>\n",
       "    </tr>\n",
       "    <tr>\n",
       "      <th>1</th>\n",
       "      <td>669</td>\n",
       "      <td>7240</td>\n",
       "      <td>9.24</td>\n",
       "    </tr>\n",
       "  </tbody>\n",
       "</table>\n",
       "</div>"
      ],
      "text/plain": [
       "             debt_sum  total  debt_mean\n",
       "children_id                            \n",
       "0                1063  14091       7.54\n",
       "1                 669   7240       9.24"
      ]
     },
     "execution_count": 22,
     "metadata": {},
     "output_type": "execute_result"
    }
   ],
   "source": [
    "# Функция для определения признака наличия/отсутствия детей\n",
    "def children_check(n_children):\n",
    "    if n_children == 0:\n",
    "        return 0\n",
    "    else:\n",
    "        return 1\n",
    "    \n",
    "# Применяем функцию к столбцу 'children', а полученные значения заносим в новый столбец 'children_id'\n",
    "data['children_id'] = data['children'].apply(children_check)\n",
    "\n",
    "#1 Строим сводную таблицу\n",
    "#2 Переименовываем названия полученных колонок\n",
    "#3 Округляем значения вероятности возврата кредита и переводим значение в проценты путем уножения на 100\n",
    "#4 Выводим полученную таблицу на экран\n",
    "data_pivot_children_id = data.pivot_table(index='children_id', values='debt', aggfunc=['sum', 'count', 'mean']) #1\n",
    "data_pivot_children_id.columns = ['debt_sum', 'total', 'debt_mean'] #2\n",
    "data_pivot_children_id['debt_mean'] = data_pivot_children_id['debt_mean'].round(4) * 100 #3\n",
    "data_pivot_children_id.head() #4"
   ]
  },
  {
   "cell_type": "code",
   "execution_count": 23,
   "id": "36b60e46",
   "metadata": {},
   "outputs": [
    {
     "data": {
      "image/png": "[encoded data removed]",
      "text/plain": [
       "<Figure size 432x288 with 1 Axes>"
      ]
     },
     "metadata": {
      "needs_background": "light"
     },
     "output_type": "display_data"
    }
   ],
   "source": [
    "# Визуализируем полученные данные табицы с помощью столбчатой диаграммы\n",
    "seaborn.barplot(\n",
    "    data=data_pivot_children_id,\n",
    "    x=data_pivot_children_id.index,\n",
    "    y='debt_mean').set(\n",
    "    xlabel='Отсутствие/наличие детей',\n",
    "    ylabel='Вероятность несвоевременного \\n возврата кредита, %');"
   ]
  },
  {
   "cell_type": "markdown",
   "id": "a5215807",
   "metadata": {},
   "source": [
    "**Таким образом вероятность несвоевременного возврата кредита у людей с детьми составляет 9.2%, что на 1.7% выше, чем у людей без детей, для которых данная вероятность составляет 7.5%.**"
   ]
  },
  {
   "cell_type": "markdown",
   "id": "42eb013d",
   "metadata": {},
   "source": [
    "Теперь попробуем разобораться, как конкретное количество детей влияет на вероятность несвоевременного возврата. Построем сводную таблицу, аналогичную той, которую мы строили выше по признаку наличия/отсутствия детей, только в этот раз данные сгруппируем по столбцу количества детей `children`."
   ]
  },
  {
   "cell_type": "code",
   "execution_count": 24,
   "id": "4fd4493f",
   "metadata": {},
   "outputs": [
    {
     "data": {
      "text/html": [
       "<div>\n",
       "<style scoped>\n",
       "    .dataframe tbody tr th:only-of-type {\n",
       "        vertical-align: middle;\n",
       "    }\n",
       "\n",
       "    .dataframe tbody tr th {\n",
       "        vertical-align: top;\n",
       "    }\n",
       "\n",
       "    .dataframe thead th {\n",
       "        text-align: right;\n",
       "    }\n",
       "</style>\n",
       "<table border=\"1\" class=\"dataframe\">\n",
       "  <thead>\n",
       "    <tr style=\"text-align: right;\">\n",
       "      <th></th>\n",
       "      <th>debt_sum</th>\n",
       "      <th>total</th>\n",
       "      <th>debt_mean</th>\n",
       "    </tr>\n",
       "    <tr>\n",
       "      <th>children</th>\n",
       "      <th></th>\n",
       "      <th></th>\n",
       "      <th></th>\n",
       "    </tr>\n",
       "  </thead>\n",
       "  <tbody>\n",
       "    <tr>\n",
       "      <th>0</th>\n",
       "      <td>1063</td>\n",
       "      <td>14091</td>\n",
       "      <td>7.54</td>\n",
       "    </tr>\n",
       "    <tr>\n",
       "      <th>1</th>\n",
       "      <td>444</td>\n",
       "      <td>4808</td>\n",
       "      <td>9.23</td>\n",
       "    </tr>\n",
       "    <tr>\n",
       "      <th>2</th>\n",
       "      <td>194</td>\n",
       "      <td>2052</td>\n",
       "      <td>9.45</td>\n",
       "    </tr>\n",
       "    <tr>\n",
       "      <th>3</th>\n",
       "      <td>27</td>\n",
       "      <td>330</td>\n",
       "      <td>8.18</td>\n",
       "    </tr>\n",
       "    <tr>\n",
       "      <th>4</th>\n",
       "      <td>4</td>\n",
       "      <td>41</td>\n",
       "      <td>9.76</td>\n",
       "    </tr>\n",
       "    <tr>\n",
       "      <th>5</th>\n",
       "      <td>0</td>\n",
       "      <td>9</td>\n",
       "      <td>0.00</td>\n",
       "    </tr>\n",
       "  </tbody>\n",
       "</table>\n",
       "</div>"
      ],
      "text/plain": [
       "          debt_sum  total  debt_mean\n",
       "children                            \n",
       "0             1063  14091       7.54\n",
       "1              444   4808       9.23\n",
       "2              194   2052       9.45\n",
       "3               27    330       8.18\n",
       "4                4     41       9.76\n",
       "5                0      9       0.00"
      ]
     },
     "execution_count": 24,
     "metadata": {},
     "output_type": "execute_result"
    }
   ],
   "source": [
    "# Строим сводную таблицу\n",
    "data_grouped_children = data.groupby('children').agg({'debt': ['sum', 'count', 'mean']})\n",
    "data_grouped_children.columns = ['debt_sum', 'total', 'debt_mean']\n",
    "data_grouped_children['debt_mean'] = data_grouped_children['debt_mean'].round(4) * 100\n",
    "data_grouped_children.head(10)"
   ]
  },
  {
   "cell_type": "code",
   "execution_count": 25,
   "id": "f9de558d",
   "metadata": {},
   "outputs": [
    {
     "data": {
      "image/png": "[encoded data removed]",
      "text/plain": [
       "<Figure size 432x288 with 1 Axes>"
      ]
     },
     "metadata": {
      "needs_background": "light"
     },
     "output_type": "display_data"
    }
   ],
   "source": [
    "# Визуализируем данные таблицы\n",
    "seaborn.barplot(\n",
    "    data=data_grouped_children,\n",
    "    x=data_grouped_children.index,\n",
    "    y='debt_mean').set(\n",
    "    xlabel='Колличество детей у заёмщика',\n",
    "    ylabel='Вероятность несвоевременного \\n возврата кредита, %',\n",
    "    title='Связь вероятности несвоевременного возврата кредита \\n с количеством детей у заёмщика');"
   ]
  },
  {
   "cell_type": "markdown",
   "id": "2eb9088e",
   "metadata": {
    "deletable": false,
    "id": "2eb9088e"
   },
   "source": [
    "**Вывод:**  "
   ]
  },
  {
   "cell_type": "markdown",
   "id": "ed6c361f",
   "metadata": {},
   "source": [
    "Здесь стоит заметить, что общее колличество заёмщиков без детей (14 091) сильно превышает колличество заёмщиков с тремя и более детей (всего 380), поэтому сопоставление между данными категориями не могут быть корректрными в следствии нерепрезентативности выборки заёмщиков с колличеством детей 3 и более. То есть **локальную аномалию на графике для заёмщиков с тремя детьми стоит рассматривать, как ложную.** Это же касается и категории людей с 5 детьми.\n",
    "\n",
    "Люди, которые не имеют детей, лучше всего отдают кредит, доля должников здесь составляет с 7,5%. Хуже обстоит дело с кредиторами, кто имеет одного или двух детей, здесь доля невозврата составляет соответственно 9,2% и 9,4%. Остальные категории сравнивать некорректно вследствии маленькой выборки (всего 380 человек).\n",
    "\n",
    "В целом, выводы для конкретного числа детей у заёмщика повторяют сделанные нами выше выводы в случае наличия, или отсутствия детей: **вероятность несвоевременного возврата кредита у людей с детьми примерно на 1.7% выше, чем у людей без детей.**"
   ]
  },
  {
   "cell_type": "markdown",
   "id": "74c9b3a7",
   "metadata": {
    "deletable": false,
    "editable": false,
    "id": "74c9b3a7"
   },
   "source": [
    "#### 3.2 Есть ли зависимость между семейным положением и возвратом кредита в срок?"
   ]
  },
  {
   "cell_type": "markdown",
   "id": "a531e5f0",
   "metadata": {},
   "source": [
    "Построим сводную таблицу, сгруппированную по столбцу `family_status`, который сооветствует семейному положению заёмщика."
   ]
  },
  {
   "cell_type": "code",
   "execution_count": 26,
   "id": "8098ab3b",
   "metadata": {
    "deletable": false,
    "id": "8098ab3b"
   },
   "outputs": [
    {
     "data": {
      "text/html": [
       "<div>\n",
       "<style scoped>\n",
       "    .dataframe tbody tr th:only-of-type {\n",
       "        vertical-align: middle;\n",
       "    }\n",
       "\n",
       "    .dataframe tbody tr th {\n",
       "        vertical-align: top;\n",
       "    }\n",
       "\n",
       "    .dataframe thead th {\n",
       "        text-align: right;\n",
       "    }\n",
       "</style>\n",
       "<table border=\"1\" class=\"dataframe\">\n",
       "  <thead>\n",
       "    <tr style=\"text-align: right;\">\n",
       "      <th></th>\n",
       "      <th>debt_sum</th>\n",
       "      <th>total</th>\n",
       "      <th>debt_mean</th>\n",
       "    </tr>\n",
       "    <tr>\n",
       "      <th>family_status</th>\n",
       "      <th></th>\n",
       "      <th></th>\n",
       "      <th></th>\n",
       "    </tr>\n",
       "  </thead>\n",
       "  <tbody>\n",
       "    <tr>\n",
       "      <th>Не женат / не замужем</th>\n",
       "      <td>273</td>\n",
       "      <td>2796</td>\n",
       "      <td>9.76</td>\n",
       "    </tr>\n",
       "    <tr>\n",
       "      <th>гражданский брак</th>\n",
       "      <td>385</td>\n",
       "      <td>4134</td>\n",
       "      <td>9.31</td>\n",
       "    </tr>\n",
       "    <tr>\n",
       "      <th>женат / замужем</th>\n",
       "      <td>927</td>\n",
       "      <td>12261</td>\n",
       "      <td>7.56</td>\n",
       "    </tr>\n",
       "    <tr>\n",
       "      <th>в разводе</th>\n",
       "      <td>84</td>\n",
       "      <td>1189</td>\n",
       "      <td>7.06</td>\n",
       "    </tr>\n",
       "    <tr>\n",
       "      <th>вдовец / вдова</th>\n",
       "      <td>63</td>\n",
       "      <td>951</td>\n",
       "      <td>6.62</td>\n",
       "    </tr>\n",
       "  </tbody>\n",
       "</table>\n",
       "</div>"
      ],
      "text/plain": [
       "                       debt_sum  total  debt_mean\n",
       "family_status                                    \n",
       "Не женат / не замужем       273   2796       9.76\n",
       "гражданский брак            385   4134       9.31\n",
       "женат / замужем             927  12261       7.56\n",
       "в разводе                    84   1189       7.06\n",
       "вдовец / вдова               63    951       6.62"
      ]
     },
     "execution_count": 26,
     "metadata": {},
     "output_type": "execute_result"
    }
   ],
   "source": [
    "# Строим сводную таблицу\n",
    "data_pivot_family_status = data.pivot_table(index='family_status', values='debt', aggfunc=['sum', 'count', 'mean'])\n",
    "data_pivot_family_status.columns = ['debt_sum', 'total', 'debt_mean']\n",
    "data_pivot_family_status['debt_mean'] = data_pivot_family_status['debt_mean'].round(4) * 100\n",
    "# Сортируем значения в таблице по убыванию вероятности возврата кредита\n",
    "data_pivot_family_status = data_pivot_family_status.sort_values(by='debt_mean', ascending=False)\n",
    "data_pivot_family_status.head()"
   ]
  },
  {
   "cell_type": "code",
   "execution_count": 27,
   "id": "227b1e88",
   "metadata": {},
   "outputs": [
    {
     "data": {
      "image/png": "[encoded data removed]",
      "text/plain": [
       "<Figure size 432x288 with 1 Axes>"
      ]
     },
     "metadata": {
      "needs_background": "light"
     },
     "output_type": "display_data"
    }
   ],
   "source": [
    "# Визуализируем данные таблицы\n",
    "seaborn.barplot(\n",
    "    data=data_pivot_family_status,\n",
    "    y=data_pivot_family_status.index,\n",
    "    x='debt_mean').set(\n",
    "    ylabel='Семейное положение',\n",
    "    xlabel='Вероятность несвоевременного возврата кредита, %',\n",
    "    title='Связь вероятности несвоевременного возврата кредита \\n с семейным положением заёмщика');"
   ]
  },
  {
   "cell_type": "markdown",
   "id": "c389ca63",
   "metadata": {
    "deletable": false,
    "id": "c389ca63"
   },
   "source": [
    "**Вывод:** "
   ]
  },
  {
   "cell_type": "markdown",
   "id": "ea510557",
   "metadata": {},
   "source": [
    "Ранжирование категорий в соответствии с вероятностью своевременного возврата кредита привела к любопытным результатам. Каждый из столбцов начиная от \"не замужем\" до \"вдова\" вполне может характеризовать определённый жизненный этап отдельного человека. **Очень вероятно, что мы бы получили аналогичный характер распределения в зависимости от возраста заёмщика, т.е. уменьшение вероятности несвоевременного возврата кредита с увеличением возраста.**\n",
    "\n",
    "\n",
    "Вероятность несвоевременного возврата кредита людей состоящих/состовших в официально оформленных отношениях составляет 6.6% в категории \"вдова\", 7% в категории \"в разводе\" и 7.5% в категории \"женат/замужем\". При этом резкое увеличение доли несвоевременно вохвращённых кредитов происходит при переходе к категориям \"гражданский брак\" (9.3%) и \"не женат/не замужем\" (наибольшее значение в выборке 9.76%).\n",
    "\n",
    "Таким образом, **вероятность несвоевременного возврата кредита людей состоящих/состовших в официально оформленных отношениях в среднем на 2% ниже по отношению к людям не состоящих в отношениях, или не оформлявщих свои отношения официально.** Возможно люди, которые готовы к официальному оформлению отношений, охотнее готовы брать на себя ответственность, и как следствие, являются более надёжными кредитополучателями.\n",
    "\n",
    "Похоже всё-таки \"штамп в паспорте\" что-то значит :) "
   ]
  },
  {
   "cell_type": "markdown",
   "id": "9529de68",
   "metadata": {
    "deletable": false,
    "editable": false,
    "id": "9529de68"
   },
   "source": [
    "#### 3.3 Есть ли зависимость между уровнем дохода и возвратом кредита в срок?"
   ]
  },
  {
   "cell_type": "markdown",
   "id": "c1513a41",
   "metadata": {},
   "source": [
    "Построим сводную таблицу, сгруппированную по столбцу `total_income_category`, который сооветствует уровню дохода заёмщика. Ранее мы распределили заёмщиков по категориям дохода по следующему правилу:\n",
    "\n",
    "Категория | Расшифровка категории | Доход\n",
    "--- | --- | --- \n",
    "E | Низкий | до 30 тыс.\n",
    "D | Ниже среднего | от 30 тыс. до 50 тыс\n",
    "C | Средний | от 50 тыс. до 200 тыс.\n",
    "B | Выше среднего | от 200 тыс. до 1 млн.\n",
    "A | Высокий | более 1 млн."
   ]
  },
  {
   "cell_type": "code",
   "execution_count": 28,
   "id": "8787f44a",
   "metadata": {
    "deletable": false,
    "id": "8787f44a"
   },
   "outputs": [
    {
     "data": {
      "text/html": [
       "<div>\n",
       "<style scoped>\n",
       "    .dataframe tbody tr th:only-of-type {\n",
       "        vertical-align: middle;\n",
       "    }\n",
       "\n",
       "    .dataframe tbody tr th {\n",
       "        vertical-align: top;\n",
       "    }\n",
       "\n",
       "    .dataframe thead th {\n",
       "        text-align: right;\n",
       "    }\n",
       "</style>\n",
       "<table border=\"1\" class=\"dataframe\">\n",
       "  <thead>\n",
       "    <tr style=\"text-align: right;\">\n",
       "      <th></th>\n",
       "      <th>debt_sum</th>\n",
       "      <th>total</th>\n",
       "      <th>debt_mean</th>\n",
       "    </tr>\n",
       "    <tr>\n",
       "      <th>total_income_category</th>\n",
       "      <th></th>\n",
       "      <th></th>\n",
       "      <th></th>\n",
       "    </tr>\n",
       "  </thead>\n",
       "  <tbody>\n",
       "    <tr>\n",
       "      <th>A</th>\n",
       "      <td>2</td>\n",
       "      <td>25</td>\n",
       "      <td>8.00</td>\n",
       "    </tr>\n",
       "    <tr>\n",
       "      <th>B</th>\n",
       "      <td>354</td>\n",
       "      <td>5014</td>\n",
       "      <td>7.06</td>\n",
       "    </tr>\n",
       "    <tr>\n",
       "      <th>C</th>\n",
       "      <td>1353</td>\n",
       "      <td>15921</td>\n",
       "      <td>8.50</td>\n",
       "    </tr>\n",
       "    <tr>\n",
       "      <th>D</th>\n",
       "      <td>21</td>\n",
       "      <td>349</td>\n",
       "      <td>6.02</td>\n",
       "    </tr>\n",
       "    <tr>\n",
       "      <th>E</th>\n",
       "      <td>2</td>\n",
       "      <td>22</td>\n",
       "      <td>9.09</td>\n",
       "    </tr>\n",
       "  </tbody>\n",
       "</table>\n",
       "</div>"
      ],
      "text/plain": [
       "                       debt_sum  total  debt_mean\n",
       "total_income_category                            \n",
       "A                             2     25       8.00\n",
       "B                           354   5014       7.06\n",
       "C                          1353  15921       8.50\n",
       "D                            21    349       6.02\n",
       "E                             2     22       9.09"
      ]
     },
     "execution_count": 28,
     "metadata": {},
     "output_type": "execute_result"
    }
   ],
   "source": [
    "# Строим сводную таблицу\n",
    "data_pivot_income = data.pivot_table(index='total_income_category', values='debt', aggfunc=['sum', 'count', 'mean'])\n",
    "data_pivot_income.columns = ['debt_sum', 'total', 'debt_mean']\n",
    "data_pivot_income['debt_mean'] = data_pivot_income['debt_mean'].round(4) * 100\n",
    "data_pivot_income.head()"
   ]
  },
  {
   "cell_type": "code",
   "execution_count": 29,
   "id": "65117ef6",
   "metadata": {},
   "outputs": [
    {
     "data": {
      "image/png": "[encoded data removed]",
      "text/plain": [
       "<Figure size 432x288 with 1 Axes>"
      ]
     },
     "metadata": {
      "needs_background": "light"
     },
     "output_type": "display_data"
    }
   ],
   "source": [
    "# Визуализируем данные таблицы\n",
    "seaborn.barplot(\n",
    "    data=data_pivot_income,\n",
    "    y=data_pivot_income.index,\n",
    "    x='debt_mean').set(\n",
    "    ylabel='Уровень дохода',\n",
    "    xlabel='Вероятность несвоевременного возврата кредита, %',\n",
    "    title='Связь вероятности несвоевременного возврата кредита \\n с уровнем дохода заёмщика');"
   ]
  },
  {
   "cell_type": "markdown",
   "id": "6dd14b57",
   "metadata": {
    "deletable": false,
    "id": "6dd14b57"
   },
   "source": [
    "**Вывод:** "
   ]
  },
  {
   "cell_type": "markdown",
   "id": "a8ed3b52",
   "metadata": {},
   "source": [
    "Сразу заметим, что мы не наблюдаем явно выраженной зависимости между увеличением дохода и уменьшением вероятности возврата кредита. С другой стороны, Столбцы E, C, и A демонстрируют подобный тренд.\n",
    "\n",
    "Наиболее представительной по колличеству человек является выборка по столбцам B и C. Наиболее надёжно можно сделать вывод именно сравнивая данные две категории: **вероятность несвоевременного возврата кредита у людей с доходом выше среднего составляет 7% и примерно на 1.5% ниже, чем у людей со средним уровнем дохода, для которых она составляет 8.5%.**\n",
    "\n",
    "Возможно, проведенная нами группировка по категориям не является наиболее оптимальной, а диапазоны, формирующие класс с определённым уровнем дохода стоит пересмотреть. Также, возможно, имеет смысл уменьшить колличество категорий до трёх, тем самым обеспечив более представительную выборку в категории."
   ]
  },
  {
   "cell_type": "markdown",
   "id": "1dcc9b12",
   "metadata": {
    "deletable": false,
    "editable": false,
    "id": "1dcc9b12"
   },
   "source": [
    "#### 3.4 Как разные цели кредита влияют на его возврат в срок?"
   ]
  },
  {
   "cell_type": "markdown",
   "id": "4769566b",
   "metadata": {},
   "source": [
    "Построим сводную таблицу, сгруппированную по столбцу `purpose_category`, который сооветствует цели кредита."
   ]
  },
  {
   "cell_type": "code",
   "execution_count": 30,
   "id": "c602bc8b",
   "metadata": {
    "deletable": false,
    "id": "c602bc8b"
   },
   "outputs": [
    {
     "data": {
      "text/html": [
       "<div>\n",
       "<style scoped>\n",
       "    .dataframe tbody tr th:only-of-type {\n",
       "        vertical-align: middle;\n",
       "    }\n",
       "\n",
       "    .dataframe tbody tr th {\n",
       "        vertical-align: top;\n",
       "    }\n",
       "\n",
       "    .dataframe thead th {\n",
       "        text-align: right;\n",
       "    }\n",
       "</style>\n",
       "<table border=\"1\" class=\"dataframe\">\n",
       "  <thead>\n",
       "    <tr style=\"text-align: right;\">\n",
       "      <th></th>\n",
       "      <th>debt_sum</th>\n",
       "      <th>total</th>\n",
       "      <th>debt_mean</th>\n",
       "    </tr>\n",
       "    <tr>\n",
       "      <th>purpose_category</th>\n",
       "      <th></th>\n",
       "      <th></th>\n",
       "      <th></th>\n",
       "    </tr>\n",
       "  </thead>\n",
       "  <tbody>\n",
       "    <tr>\n",
       "      <th>операции с автомобилем</th>\n",
       "      <td>400</td>\n",
       "      <td>4279</td>\n",
       "      <td>9.35</td>\n",
       "    </tr>\n",
       "    <tr>\n",
       "      <th>получение образования</th>\n",
       "      <td>369</td>\n",
       "      <td>3988</td>\n",
       "      <td>9.25</td>\n",
       "    </tr>\n",
       "    <tr>\n",
       "      <th>проведение свадьбы</th>\n",
       "      <td>183</td>\n",
       "      <td>2313</td>\n",
       "      <td>7.91</td>\n",
       "    </tr>\n",
       "    <tr>\n",
       "      <th>операции с недвижимостью</th>\n",
       "      <td>780</td>\n",
       "      <td>10751</td>\n",
       "      <td>7.26</td>\n",
       "    </tr>\n",
       "  </tbody>\n",
       "</table>\n",
       "</div>"
      ],
      "text/plain": [
       "                          debt_sum  total  debt_mean\n",
       "purpose_category                                    \n",
       "операции с автомобилем         400   4279       9.35\n",
       "получение образования          369   3988       9.25\n",
       "проведение свадьбы             183   2313       7.91\n",
       "операции с недвижимостью       780  10751       7.26"
      ]
     },
     "execution_count": 30,
     "metadata": {},
     "output_type": "execute_result"
    }
   ],
   "source": [
    "# Строим сводную таблицу\n",
    "data_pivot_purpose = data.pivot_table(index='purpose_category', values='debt', aggfunc=['sum', 'count', 'mean'])\n",
    "data_pivot_purpose.columns = ['debt_sum', 'total', 'debt_mean']\n",
    "data_pivot_purpose['debt_mean'] = data_pivot_purpose['debt_mean'].round(4) * 100\n",
    "data_pivot_purpose = data_pivot_purpose.sort_values(by='debt_mean', ascending=False)\n",
    "data_pivot_purpose.head()"
   ]
  },
  {
   "cell_type": "code",
   "execution_count": 31,
   "id": "2d90cda0",
   "metadata": {},
   "outputs": [
    {
     "data": {
      "image/png": "[encoded data removed]",
      "text/plain": [
       "<Figure size 432x288 with 1 Axes>"
      ]
     },
     "metadata": {
      "needs_background": "light"
     },
     "output_type": "display_data"
    }
   ],
   "source": [
    "# Визуализируем данные таблицы\n",
    "seaborn.barplot(\n",
    "    data=data_pivot_purpose,\n",
    "    y=data_pivot_purpose.index,\n",
    "    x='debt_mean').set(\n",
    "    ylabel='Цель кредитования',\n",
    "    xlabel='Вероятность несвоевременного возврата кредита, %', \n",
    "    title='Связь вероятности несвоевременного \\n возврата кредита с целью кредита');"
   ]
  },
  {
   "cell_type": "markdown",
   "id": "cf05ed63",
   "metadata": {
    "deletable": false,
    "id": "cf05ed63"
   },
   "source": [
    "**Вывод:** "
   ]
  },
  {
   "cell_type": "markdown",
   "id": "fb0c1f8a",
   "metadata": {},
   "source": [
    "**Вероятность несвоевременного возврата кредита по операциям с автомобилем и получением образования приблизительно одинакова и составляет около 9.3%. Вероятность возврата кредита на проведение свадьбы ниже, чем в предыдущих двух категориях и составляет 7.9%.**\n",
    "\n",
    "**Наименьшее относительное количество возвратов кредита демонстрирует категория операций с недвижимостью. В этой категории вероятность возврата составляет 7.2%.**\n",
    "\n",
    "Более того, операции с недвижимостью обычно предполагают срок кредитования, который в разы превышает сроки по свадьбам, образованию, или даже на покупку автомобиля. То есть подобные кредиты треуют большей финансовой ответственности и надёжности, нежели чем кредиты, связанные с иными приведёнными в таблице целями. Также размеры кредитов на покупку недвижимости в разы превышают размеры кредитов в других категориях, и, как следствие, требуют от банка больше внимания к анализу финансовых гарантий от заёмщика. Именно поэтому вероятность несвоевременного возврата кредита в данной категории оказывается самой низкой и характеризует людей в категории \"операции с недвижимостью\", как наиболее надёжных заёмщиков.\n",
    "\n",
    "Можно было бы предположить, что уменьшение размера кредита будет приводить к увеличению вероятности его несвоевременного возврата, т.к. банк охотнее и с минимальными проверками выдаст человеку кредит на небольшую сумму, но тогда не ясно, как объяснить наибольшее количество несвоевременных возвратов в категории \"операции с автомобилем\"."
   ]
  },
  {
   "cell_type": "markdown",
   "id": "46c1f10b",
   "metadata": {
    "deletable": false,
    "editable": false,
    "id": "46c1f10b"
   },
   "source": [
    "#### 3.5 Приведите возможные причины появления пропусков в исходных данных."
   ]
  },
  {
   "cell_type": "markdown",
   "id": "3697d2a9",
   "metadata": {
    "deletable": false,
    "id": "3697d2a9"
   },
   "source": [
    "*Ответ:*\n",
    "\n",
    "Сразу заметим, что количество пропусков в столбцах `total_income` и `days_employed` совпадает.\n",
    "\n",
    "Можно было бы предположить, что данные пропуски связаны с безработными людьми, но это не так. Также можно было бы предположить наличие пропусков в первоисточниках, т.к. некоторые люди могли намеренно не указывать свою ЗП, или значение `days_employed` могло быть неактуальным для такой категории людей, как 'пенсионеры' и также могло быть упущено при заполнении. Но подоюные причины предполагают некоторую случайность и вариативность в значениях.\n",
    "\n",
    "Мы же наблюдаем иную ситуацию. Пропущенные значения встречаются всегда одномременно в обоих столбцах сразу, и никогда не встречаются в одном из столбцов по отдельности. Из этого мы делаем вывод о неслучайном зарактере наличия подобных пропусков. Таким образом, появление пропусков может быть связано с ошибками при выгрузке данных, или с ошибками при формировании сводного набора данных."
   ]
  },
  {
   "cell_type": "markdown",
   "id": "3137d257",
   "metadata": {
    "deletable": false,
    "editable": false,
    "id": "3137d257"
   },
   "source": [
    "#### 3.6 Объясните, почему заполнить пропуски медианным значением — лучшее решение для количественных переменных."
   ]
  },
  {
   "cell_type": "markdown",
   "id": "cf40012a",
   "metadata": {
    "deletable": false,
    "id": "cf40012a"
   },
   "source": [
    "*Ответ:* \n",
    "\n",
    "Распределение данных может быть сильно отлично от нормального и при расчёте среднего арифметического наличие возможных \"вылетающих значений\" может существенно исказить получаемое среднее. Использование медианного среднего в данном случае будет играть роль фильтра, избавляющего данные от \"вылетающих значений\"."
   ]
  },
  {
   "cell_type": "markdown",
   "id": "57bc304e",
   "metadata": {
    "deletable": false,
    "editable": false,
    "id": "57bc304e"
   },
   "source": [
    "### Шаг 4: общий вывод."
   ]
  },
  {
   "cell_type": "markdown",
   "id": "1ab75d1c",
   "metadata": {
    "deletable": false,
    "id": "1ab75d1c"
   },
   "source": [
    "Предоставленные данные содержали информацию о платёжеспособности клиентов банка.\n",
    "\n",
    "На этапе предобработки данным нами были выявлены и устранены пропуски в данных, аномальные значения, а также дубликаты. В ходе анализа пропусков мы пришли к выводу, что вероятнее всего наличие пропусков связано с ошибками при выгрузке данных, или с ошибками при формировании сводного набора данных.\n",
    "\n",
    "Основной задачей, поставленной перед данным исследованием, было изучение гипотезы о наличии взаимосвязей между различными характеристиками людей и вероятностью несвоевременного возврата кредита. Нами были исследованы факторы связанные с наличием детей у кредитополучателя, его семейным положением, уровнем дохода, и целью предоставления кредита. В результате мы при пришли к следующим основным выводам:\n",
    "1. Вероятность несвоевременного возврата кредита у людей с детьми составляет 9.2%, что на 1.7% выше, чем у людей без детей, для которых данная вероятность составляет 7.5%.\n",
    "2. Вероятность несвоевременного возврата кредита людей состоящих/состовших в официально оформленных отношениях составляет 6.6% в категории \"вдова\", 7% в категории \"в разводе\" и 7.5% в категории \"женат/замужем\". При этом резкое увеличение доли несвоевременно вохвращённых кредитов происходит при переходе к категориям \"гражданский брак\" (9.3%) и \"не женат/не замужем\" (наибольшее значение в выборке 9.76%). Таким образом, люди состоящие/состовшие в официально оформленных отношениях в среднем на 2% чаще возвращают кредиты вовремя по отношению к людям не состоящих в отношениях, или не оформлявщих свои отношения официально.\n",
    "3. Вероятность несвоевременного возврата кредита у людей с доходом выше среднего составляет 7% и примерно на 1.5% ниже, чем у людей со средним уровнем дохода, для которых она составляет 8.5%. Явная коррелиция между увеличением дохода и уменьшением вероятности возврата кредита отсутствует.\n",
    "4. Вероятность несвоевременного возврата кредита по операциям с автомобилем и получением образования приблизительно одинакова и составляет около 9.3%. Вероятность возврата кредита на проведение свадьбы ниже, чем в предыдущих двух категориях и составляет 7.9%. Наименьшее относительное колличество возвратов кредита демонстрирует категория операций с недвижимостью. В этой категории вероятность возврата составляет 7.2%.\n",
    "\n"
   ]
  }
 ],
 "metadata": {
  "ExecuteTimeLog": [
   {
    "duration": 435,
    "start_time": "2023-03-12T14:48:08.776Z"
   },
   {
    "duration": 21,
    "start_time": "2023-03-12T14:48:09.213Z"
   },
   {
    "duration": 14,
    "start_time": "2023-03-12T14:48:09.236Z"
   },
   {
    "duration": 10,
    "start_time": "2023-03-12T14:48:09.252Z"
   },
   {
    "duration": 29,
    "start_time": "2023-03-12T14:48:09.263Z"
   },
   {
    "duration": 4,
    "start_time": "2023-03-12T14:48:09.294Z"
   },
   {
    "duration": 11,
    "start_time": "2023-03-12T14:48:09.300Z"
   },
   {
    "duration": 5,
    "start_time": "2023-03-12T14:48:09.313Z"
   },
   {
    "duration": 35,
    "start_time": "2023-03-12T14:48:09.320Z"
   },
   {
    "duration": 5,
    "start_time": "2023-03-12T14:48:09.358Z"
   },
   {
    "duration": 37,
    "start_time": "2023-03-12T14:48:09.365Z"
   },
   {
    "duration": 9,
    "start_time": "2023-03-12T14:48:09.404Z"
   },
   {
    "duration": 9,
    "start_time": "2023-03-12T14:48:09.414Z"
   },
   {
    "duration": 10,
    "start_time": "2023-03-12T14:48:09.425Z"
   },
   {
    "duration": 19,
    "start_time": "2023-03-12T14:48:09.455Z"
   },
   {
    "duration": 17,
    "start_time": "2023-03-12T14:48:09.475Z"
   },
   {
    "duration": 3,
    "start_time": "2023-03-12T14:48:09.494Z"
   },
   {
    "duration": 10,
    "start_time": "2023-03-12T14:48:09.499Z"
   },
   {
    "duration": 7,
    "start_time": "2023-03-12T14:48:09.510Z"
   },
   {
    "duration": 2,
    "start_time": "2023-03-12T14:48:09.519Z"
   },
   {
    "duration": 37,
    "start_time": "2023-03-12T14:48:09.523Z"
   },
   {
    "duration": 2,
    "start_time": "2023-03-12T14:48:09.562Z"
   },
   {
    "duration": 10,
    "start_time": "2023-03-12T14:48:09.565Z"
   },
   {
    "duration": 3,
    "start_time": "2023-03-12T14:48:09.576Z"
   },
   {
    "duration": 4,
    "start_time": "2023-03-12T14:48:09.580Z"
   },
   {
    "duration": 16,
    "start_time": "2023-03-12T14:50:03.942Z"
   },
   {
    "duration": 20,
    "start_time": "2023-03-12T14:50:12.765Z"
   },
   {
    "duration": 21,
    "start_time": "2023-03-12T15:23:34.019Z"
   },
   {
    "duration": 4,
    "start_time": "2023-03-12T15:24:11.100Z"
   },
   {
    "duration": 6,
    "start_time": "2023-03-12T15:24:15.957Z"
   },
   {
    "duration": 6,
    "start_time": "2023-03-12T15:24:37.131Z"
   },
   {
    "duration": 9,
    "start_time": "2023-03-12T15:25:51.274Z"
   },
   {
    "duration": 7,
    "start_time": "2023-03-12T15:26:08.912Z"
   },
   {
    "duration": 8,
    "start_time": "2023-03-12T15:26:53.027Z"
   },
   {
    "duration": 2,
    "start_time": "2023-03-12T15:32:20.106Z"
   },
   {
    "duration": 4,
    "start_time": "2023-03-12T15:32:36.810Z"
   },
   {
    "duration": 9,
    "start_time": "2023-03-12T15:33:02.558Z"
   },
   {
    "duration": 75,
    "start_time": "2023-03-12T15:49:37.711Z"
   },
   {
    "duration": 15,
    "start_time": "2023-03-12T15:50:12.891Z"
   },
   {
    "duration": 14,
    "start_time": "2023-03-12T15:50:22.520Z"
   },
   {
    "duration": 15,
    "start_time": "2023-03-12T15:53:51.923Z"
   },
   {
    "duration": 23,
    "start_time": "2023-03-12T15:53:59.657Z"
   },
   {
    "duration": 26,
    "start_time": "2023-03-12T15:54:33.539Z"
   },
   {
    "duration": 59,
    "start_time": "2023-03-12T15:54:47.101Z"
   },
   {
    "duration": 16,
    "start_time": "2023-03-12T15:55:16.391Z"
   },
   {
    "duration": 7,
    "start_time": "2023-03-12T15:55:29.689Z"
   },
   {
    "duration": 15,
    "start_time": "2023-03-12T15:55:35.121Z"
   },
   {
    "duration": 6,
    "start_time": "2023-03-12T16:00:42.698Z"
   },
   {
    "duration": 8,
    "start_time": "2023-03-12T16:01:45.576Z"
   },
   {
    "duration": 9,
    "start_time": "2023-03-12T16:04:11.909Z"
   },
   {
    "duration": 9,
    "start_time": "2023-03-12T16:04:17.685Z"
   },
   {
    "duration": 14,
    "start_time": "2023-03-12T16:04:23.996Z"
   },
   {
    "duration": 9,
    "start_time": "2023-03-12T16:04:27.235Z"
   },
   {
    "duration": 3,
    "start_time": "2023-03-12T16:09:39.113Z"
   },
   {
    "duration": 10,
    "start_time": "2023-03-12T16:09:43.484Z"
   },
   {
    "duration": 637,
    "start_time": "2023-03-12T16:10:41.354Z"
   },
   {
    "duration": 642,
    "start_time": "2023-03-12T16:11:08.005Z"
   },
   {
    "duration": 676,
    "start_time": "2023-03-12T16:11:13.337Z"
   },
   {
    "duration": 15,
    "start_time": "2023-03-12T16:11:27.597Z"
   },
   {
    "duration": 14,
    "start_time": "2023-03-12T16:11:54.631Z"
   },
   {
    "duration": 13,
    "start_time": "2023-03-12T16:12:01.424Z"
   },
   {
    "duration": 19,
    "start_time": "2023-03-12T16:13:12.408Z"
   },
   {
    "duration": 719,
    "start_time": "2023-03-12T16:13:59.161Z"
   },
   {
    "duration": 97,
    "start_time": "2023-03-12T16:14:09.045Z"
   },
   {
    "duration": 695,
    "start_time": "2023-03-12T16:14:11.900Z"
   },
   {
    "duration": 676,
    "start_time": "2023-03-12T16:14:13.459Z"
   },
   {
    "duration": 26,
    "start_time": "2023-03-12T16:14:24.497Z"
   },
   {
    "duration": 20,
    "start_time": "2023-03-12T16:14:38.625Z"
   },
   {
    "duration": 28,
    "start_time": "2023-03-12T16:14:49.977Z"
   },
   {
    "duration": 1118,
    "start_time": "2023-03-12T16:15:02.246Z"
   },
   {
    "duration": 32,
    "start_time": "2023-03-12T16:15:06.996Z"
   },
   {
    "duration": 21,
    "start_time": "2023-03-12T16:15:27.855Z"
   },
   {
    "duration": 27,
    "start_time": "2023-03-12T16:15:32.476Z"
   },
   {
    "duration": 692,
    "start_time": "2023-03-12T16:18:51.102Z"
   },
   {
    "duration": 15,
    "start_time": "2023-03-12T16:24:13.472Z"
   },
   {
    "duration": 21,
    "start_time": "2023-03-12T16:24:32.315Z"
   },
   {
    "duration": 33,
    "start_time": "2023-03-12T16:26:07.184Z"
   },
   {
    "duration": 38,
    "start_time": "2023-03-12T16:26:26.951Z"
   },
   {
    "duration": 41,
    "start_time": "2023-03-12T16:28:21.484Z"
   },
   {
    "duration": 13,
    "start_time": "2023-03-12T16:28:23.780Z"
   },
   {
    "duration": 960,
    "start_time": "2023-03-12T16:30:15.507Z"
   },
   {
    "duration": 51,
    "start_time": "2023-03-12T16:30:56.890Z"
   },
   {
    "duration": 653,
    "start_time": "2023-03-12T16:32:31.348Z"
   },
   {
    "duration": 39,
    "start_time": "2023-03-12T16:33:21.802Z"
   },
   {
    "duration": 27,
    "start_time": "2023-03-12T16:33:37.326Z"
   },
   {
    "duration": 730,
    "start_time": "2023-03-12T16:35:20.693Z"
   },
   {
    "duration": 158,
    "start_time": "2023-03-12T16:35:44.273Z"
   },
   {
    "duration": 45,
    "start_time": "2023-03-12T16:36:06.684Z"
   },
   {
    "duration": 9,
    "start_time": "2023-03-12T16:36:29.027Z"
   },
   {
    "duration": 12,
    "start_time": "2023-03-12T16:36:39.335Z"
   },
   {
    "duration": 646,
    "start_time": "2023-03-12T16:36:51.296Z"
   },
   {
    "duration": 97,
    "start_time": "2023-03-12T16:37:00.281Z"
   },
   {
    "duration": 42,
    "start_time": "2023-03-12T16:37:10.883Z"
   },
   {
    "duration": 41,
    "start_time": "2023-03-12T16:37:21.132Z"
   },
   {
    "duration": 80,
    "start_time": "2023-03-12T16:37:25.984Z"
   },
   {
    "duration": 18,
    "start_time": "2023-03-12T16:37:41.016Z"
   },
   {
    "duration": 685,
    "start_time": "2023-03-12T16:37:49.305Z"
   },
   {
    "duration": 657,
    "start_time": "2023-03-12T16:38:18.881Z"
   },
   {
    "duration": 88,
    "start_time": "2023-03-12T16:44:30.544Z"
   },
   {
    "duration": 14,
    "start_time": "2023-03-12T16:44:45.997Z"
   },
   {
    "duration": 8,
    "start_time": "2023-03-12T16:47:15.284Z"
   },
   {
    "duration": 96,
    "start_time": "2023-03-12T16:47:27.444Z"
   },
   {
    "duration": 96,
    "start_time": "2023-03-12T16:47:58.410Z"
   },
   {
    "duration": 118,
    "start_time": "2023-03-12T16:48:18.229Z"
   },
   {
    "duration": 151,
    "start_time": "2023-03-12T16:57:06.989Z"
   },
   {
    "duration": 14,
    "start_time": "2023-03-12T16:57:07.153Z"
   },
   {
    "duration": 113,
    "start_time": "2023-03-12T16:58:11.890Z"
   },
   {
    "duration": 103,
    "start_time": "2023-03-12T16:58:34.093Z"
   },
   {
    "duration": 95,
    "start_time": "2023-03-12T16:58:48.747Z"
   },
   {
    "duration": 124,
    "start_time": "2023-03-12T16:58:56.686Z"
   },
   {
    "duration": 125,
    "start_time": "2023-03-12T17:00:47.805Z"
   },
   {
    "duration": 98,
    "start_time": "2023-03-12T17:00:53.220Z"
   },
   {
    "duration": 120,
    "start_time": "2023-03-12T17:01:00.727Z"
   },
   {
    "duration": 122,
    "start_time": "2023-03-12T17:01:21.686Z"
   },
   {
    "duration": 123,
    "start_time": "2023-03-12T17:01:31.891Z"
   },
   {
    "duration": 89,
    "start_time": "2023-03-12T17:01:42.011Z"
   },
   {
    "duration": 182,
    "start_time": "2023-03-12T17:02:17.700Z"
   },
   {
    "duration": 34,
    "start_time": "2023-03-12T17:03:45.441Z"
   },
   {
    "duration": 117,
    "start_time": "2023-03-12T17:03:57.207Z"
   },
   {
    "duration": 15,
    "start_time": "2023-03-12T17:04:03.501Z"
   },
   {
    "duration": 126,
    "start_time": "2023-03-12T17:04:11.295Z"
   },
   {
    "duration": 207,
    "start_time": "2023-03-12T17:06:24.885Z"
   },
   {
    "duration": 30,
    "start_time": "2023-03-12T17:23:57.621Z"
   },
   {
    "duration": 96,
    "start_time": "2023-03-12T17:24:18.329Z"
   },
   {
    "duration": 11,
    "start_time": "2023-03-12T17:24:38.403Z"
   },
   {
    "duration": 95,
    "start_time": "2023-03-12T17:24:42.648Z"
   },
   {
    "duration": 14,
    "start_time": "2023-03-12T17:25:23.549Z"
   },
   {
    "duration": 141,
    "start_time": "2023-03-12T17:26:02.604Z"
   },
   {
    "duration": 9,
    "start_time": "2023-03-12T17:29:54.197Z"
   },
   {
    "duration": 14,
    "start_time": "2023-03-12T17:30:34.296Z"
   },
   {
    "duration": 18,
    "start_time": "2023-03-12T17:30:47.743Z"
   },
   {
    "duration": 13,
    "start_time": "2023-03-12T17:31:21.743Z"
   },
   {
    "duration": 13,
    "start_time": "2023-03-12T17:31:48.000Z"
   },
   {
    "duration": 15,
    "start_time": "2023-03-12T17:31:55.528Z"
   },
   {
    "duration": 5,
    "start_time": "2023-03-12T17:32:04.217Z"
   },
   {
    "duration": 7,
    "start_time": "2023-03-12T17:32:21.741Z"
   },
   {
    "duration": 7,
    "start_time": "2023-03-12T17:32:55.904Z"
   },
   {
    "duration": 18,
    "start_time": "2023-03-12T17:33:08.527Z"
   },
   {
    "duration": 21,
    "start_time": "2023-03-12T17:35:37.391Z"
   },
   {
    "duration": 22,
    "start_time": "2023-03-12T17:35:48.626Z"
   },
   {
    "duration": 119,
    "start_time": "2023-03-12T17:37:39.426Z"
   },
   {
    "duration": 129,
    "start_time": "2023-03-12T17:37:47.358Z"
   },
   {
    "duration": 24,
    "start_time": "2023-03-12T17:38:45.503Z"
   },
   {
    "duration": 133,
    "start_time": "2023-03-12T17:39:00.230Z"
   },
   {
    "duration": 127,
    "start_time": "2023-03-12T17:40:00.715Z"
   },
   {
    "duration": 149,
    "start_time": "2023-03-12T17:40:55.546Z"
   },
   {
    "duration": 125,
    "start_time": "2023-03-12T17:41:16.598Z"
   },
   {
    "duration": 122,
    "start_time": "2023-03-12T17:41:24.517Z"
   },
   {
    "duration": 8,
    "start_time": "2023-03-12T17:44:13.003Z"
   },
   {
    "duration": 6,
    "start_time": "2023-03-12T17:44:21.045Z"
   },
   {
    "duration": 7,
    "start_time": "2023-03-12T17:46:08.841Z"
   },
   {
    "duration": 8,
    "start_time": "2023-03-12T17:46:16.620Z"
   },
   {
    "duration": 6,
    "start_time": "2023-03-12T17:46:26.614Z"
   },
   {
    "duration": 7,
    "start_time": "2023-03-12T17:46:37.387Z"
   },
   {
    "duration": 9,
    "start_time": "2023-03-12T17:47:09.716Z"
   },
   {
    "duration": 10,
    "start_time": "2023-03-12T17:51:56.134Z"
   },
   {
    "duration": 11,
    "start_time": "2023-03-12T17:52:03.072Z"
   },
   {
    "duration": 20,
    "start_time": "2023-03-12T17:52:06.286Z"
   },
   {
    "duration": 6,
    "start_time": "2023-03-12T17:52:25.804Z"
   },
   {
    "duration": 8,
    "start_time": "2023-03-12T17:53:01.620Z"
   },
   {
    "duration": 9,
    "start_time": "2023-03-12T17:53:06.707Z"
   },
   {
    "duration": 12,
    "start_time": "2023-03-12T17:53:20.922Z"
   },
   {
    "duration": 10,
    "start_time": "2023-03-12T17:53:38.983Z"
   },
   {
    "duration": 7,
    "start_time": "2023-03-12T17:53:42.183Z"
   },
   {
    "duration": 7,
    "start_time": "2023-03-12T17:54:21.523Z"
   },
   {
    "duration": 10,
    "start_time": "2023-03-12T17:54:29.418Z"
   },
   {
    "duration": 9,
    "start_time": "2023-03-12T17:55:07.482Z"
   },
   {
    "duration": 7,
    "start_time": "2023-03-12T17:55:40.626Z"
   },
   {
    "duration": 7,
    "start_time": "2023-03-12T17:55:42.299Z"
   },
   {
    "duration": 7,
    "start_time": "2023-03-12T17:55:52.301Z"
   },
   {
    "duration": 5,
    "start_time": "2023-03-12T17:56:56.286Z"
   },
   {
    "duration": 7,
    "start_time": "2023-03-12T17:57:16.390Z"
   },
   {
    "duration": 7,
    "start_time": "2023-03-12T17:57:26.102Z"
   },
   {
    "duration": 14,
    "start_time": "2023-03-12T17:58:24.066Z"
   },
   {
    "duration": 7,
    "start_time": "2023-03-12T17:58:45.441Z"
   },
   {
    "duration": 9,
    "start_time": "2023-03-12T18:04:00.495Z"
   },
   {
    "duration": 26,
    "start_time": "2023-03-12T18:05:52.942Z"
   },
   {
    "duration": 14,
    "start_time": "2023-03-12T18:05:59.924Z"
   },
   {
    "duration": 13,
    "start_time": "2023-03-12T18:06:08.382Z"
   },
   {
    "duration": 15,
    "start_time": "2023-03-12T18:08:33.246Z"
   },
   {
    "duration": 7,
    "start_time": "2023-03-12T18:18:54.114Z"
   },
   {
    "duration": 11,
    "start_time": "2023-03-12T18:19:12.891Z"
   },
   {
    "duration": 12,
    "start_time": "2023-03-12T18:19:36.638Z"
   },
   {
    "duration": 16,
    "start_time": "2023-03-12T18:21:05.137Z"
   },
   {
    "duration": 15,
    "start_time": "2023-03-12T18:21:45.590Z"
   },
   {
    "duration": 20,
    "start_time": "2023-03-12T18:22:07.495Z"
   },
   {
    "duration": 21,
    "start_time": "2023-03-12T18:22:20.295Z"
   },
   {
    "duration": 21,
    "start_time": "2023-03-12T18:22:33.553Z"
   },
   {
    "duration": 19,
    "start_time": "2023-03-12T18:22:49.923Z"
   },
   {
    "duration": 25,
    "start_time": "2023-03-12T18:23:43.627Z"
   },
   {
    "duration": 21,
    "start_time": "2023-03-12T18:23:56.992Z"
   },
   {
    "duration": 21,
    "start_time": "2023-03-12T18:24:02.594Z"
   },
   {
    "duration": 23,
    "start_time": "2023-03-12T18:24:22.480Z"
   },
   {
    "duration": 22,
    "start_time": "2023-03-12T18:24:31.228Z"
   },
   {
    "duration": 22,
    "start_time": "2023-03-12T18:24:48.675Z"
   },
   {
    "duration": 20,
    "start_time": "2023-03-12T18:24:59.095Z"
   },
   {
    "duration": 21,
    "start_time": "2023-03-12T18:25:37.031Z"
   },
   {
    "duration": 22,
    "start_time": "2023-03-12T18:25:40.352Z"
   },
   {
    "duration": 23,
    "start_time": "2023-03-12T18:25:48.141Z"
   },
   {
    "duration": 25,
    "start_time": "2023-03-12T18:27:01.299Z"
   },
   {
    "duration": 21,
    "start_time": "2023-03-12T18:27:16.940Z"
   },
   {
    "duration": 30,
    "start_time": "2023-03-12T18:27:26.829Z"
   },
   {
    "duration": 22,
    "start_time": "2023-03-12T18:27:37.443Z"
   },
   {
    "duration": 23,
    "start_time": "2023-03-12T18:28:24.148Z"
   },
   {
    "duration": 24,
    "start_time": "2023-03-12T18:28:35.328Z"
   },
   {
    "duration": 22,
    "start_time": "2023-03-12T18:28:40.921Z"
   },
   {
    "duration": 21,
    "start_time": "2023-03-12T18:28:51.222Z"
   },
   {
    "duration": 45,
    "start_time": "2023-03-12T18:29:01.942Z"
   },
   {
    "duration": 27,
    "start_time": "2023-03-12T18:29:25.165Z"
   },
   {
    "duration": 21,
    "start_time": "2023-03-12T18:29:30.413Z"
   },
   {
    "duration": 21,
    "start_time": "2023-03-12T18:29:54.375Z"
   },
   {
    "duration": 32,
    "start_time": "2023-03-12T18:30:55.339Z"
   },
   {
    "duration": 23,
    "start_time": "2023-03-12T18:31:06.001Z"
   },
   {
    "duration": 38,
    "start_time": "2023-03-12T18:31:10.703Z"
   },
   {
    "duration": 31,
    "start_time": "2023-03-12T18:31:15.041Z"
   },
   {
    "duration": 23,
    "start_time": "2023-03-12T18:31:29.519Z"
   },
   {
    "duration": 25,
    "start_time": "2023-03-12T18:32:26.393Z"
   },
   {
    "duration": 32,
    "start_time": "2023-03-12T18:37:11.214Z"
   },
   {
    "duration": 22,
    "start_time": "2023-03-12T18:37:20.377Z"
   },
   {
    "duration": 24,
    "start_time": "2023-03-12T18:38:59.181Z"
   },
   {
    "duration": 46,
    "start_time": "2023-03-12T18:40:43.220Z"
   },
   {
    "duration": 23,
    "start_time": "2023-03-12T18:40:52.288Z"
   },
   {
    "duration": 26,
    "start_time": "2023-03-12T18:41:04.796Z"
   },
   {
    "duration": 30,
    "start_time": "2023-03-12T18:41:13.186Z"
   },
   {
    "duration": 17,
    "start_time": "2023-03-12T18:41:24.236Z"
   },
   {
    "duration": 21,
    "start_time": "2023-03-12T18:41:33.451Z"
   },
   {
    "duration": 20,
    "start_time": "2023-03-12T18:41:43.933Z"
   },
   {
    "duration": 42,
    "start_time": "2023-03-12T18:43:23.008Z"
   },
   {
    "duration": 22,
    "start_time": "2023-03-12T18:43:30.324Z"
   },
   {
    "duration": 21,
    "start_time": "2023-03-12T18:43:39.898Z"
   },
   {
    "duration": 23,
    "start_time": "2023-03-12T18:44:39.746Z"
   },
   {
    "duration": 25,
    "start_time": "2023-03-12T18:46:27.083Z"
   },
   {
    "duration": 29,
    "start_time": "2023-03-12T18:47:03.080Z"
   },
   {
    "duration": 23,
    "start_time": "2023-03-12T18:48:09.198Z"
   },
   {
    "duration": 24,
    "start_time": "2023-03-12T18:48:44.395Z"
   },
   {
    "duration": 30,
    "start_time": "2023-03-12T18:49:07.272Z"
   },
   {
    "duration": 27,
    "start_time": "2023-03-12T18:49:13.279Z"
   },
   {
    "duration": 25,
    "start_time": "2023-03-12T18:49:19.779Z"
   },
   {
    "duration": 26,
    "start_time": "2023-03-12T18:50:43.293Z"
   },
   {
    "duration": 24,
    "start_time": "2023-03-12T18:51:13.535Z"
   },
   {
    "duration": 22,
    "start_time": "2023-03-12T18:51:24.878Z"
   },
   {
    "duration": 19,
    "start_time": "2023-03-12T18:51:40.624Z"
   },
   {
    "duration": 43,
    "start_time": "2023-03-12T18:51:56.756Z"
   },
   {
    "duration": 16,
    "start_time": "2023-03-12T18:52:07.821Z"
   },
   {
    "duration": 25,
    "start_time": "2023-03-12T18:53:51.627Z"
   },
   {
    "duration": 16,
    "start_time": "2023-03-12T18:54:10.502Z"
   },
   {
    "duration": 25,
    "start_time": "2023-03-12T18:54:22.458Z"
   },
   {
    "duration": 21,
    "start_time": "2023-03-12T18:54:54.126Z"
   },
   {
    "duration": 39,
    "start_time": "2023-03-12T18:55:01.651Z"
   },
   {
    "duration": 20,
    "start_time": "2023-03-12T18:55:13.170Z"
   },
   {
    "duration": 15,
    "start_time": "2023-03-12T18:57:02.949Z"
   },
   {
    "duration": 14,
    "start_time": "2023-03-12T18:57:11.830Z"
   },
   {
    "duration": 22,
    "start_time": "2023-03-12T19:02:50.335Z"
   },
   {
    "duration": 961,
    "start_time": "2023-03-12T19:05:14.380Z"
   },
   {
    "duration": 32,
    "start_time": "2023-03-12T19:05:40.393Z"
   },
   {
    "duration": 24,
    "start_time": "2023-03-12T19:06:01.979Z"
   },
   {
    "duration": 23,
    "start_time": "2023-03-12T19:06:09.290Z"
   },
   {
    "duration": 23,
    "start_time": "2023-03-12T19:06:20.790Z"
   },
   {
    "duration": 24,
    "start_time": "2023-03-12T19:06:29.191Z"
   },
   {
    "duration": 17,
    "start_time": "2023-03-12T19:07:13.490Z"
   },
   {
    "duration": 16,
    "start_time": "2023-03-12T19:07:28.279Z"
   },
   {
    "duration": 18,
    "start_time": "2023-03-12T19:07:31.793Z"
   },
   {
    "duration": 20,
    "start_time": "2023-03-12T19:07:39.800Z"
   },
   {
    "duration": 23,
    "start_time": "2023-03-12T19:07:44.751Z"
   },
   {
    "duration": 113,
    "start_time": "2023-03-12T19:09:21.149Z"
   },
   {
    "duration": 103,
    "start_time": "2023-03-12T19:09:57.000Z"
   },
   {
    "duration": 721,
    "start_time": "2023-03-12T19:12:42.606Z"
   },
   {
    "duration": 23,
    "start_time": "2023-03-12T19:13:02.109Z"
   },
   {
    "duration": 24,
    "start_time": "2023-03-12T19:13:24.201Z"
   },
   {
    "duration": 33,
    "start_time": "2023-03-12T19:13:36.598Z"
   },
   {
    "duration": 21,
    "start_time": "2023-03-12T19:15:29.525Z"
   },
   {
    "duration": 697,
    "start_time": "2023-03-12T19:15:53.398Z"
   },
   {
    "duration": 25,
    "start_time": "2023-03-12T19:16:04.702Z"
   },
   {
    "duration": 34,
    "start_time": "2023-03-12T19:16:17.481Z"
   },
   {
    "duration": 23,
    "start_time": "2023-03-12T19:16:25.574Z"
   },
   {
    "duration": 707,
    "start_time": "2023-03-12T19:16:30.189Z"
   },
   {
    "duration": 24,
    "start_time": "2023-03-12T19:16:40.923Z"
   },
   {
    "duration": 708,
    "start_time": "2023-03-12T19:16:47.504Z"
   },
   {
    "duration": 707,
    "start_time": "2023-03-12T19:16:51.686Z"
   },
   {
    "duration": 883,
    "start_time": "2023-03-12T19:16:59.496Z"
   },
   {
    "duration": 26,
    "start_time": "2023-03-12T19:17:40.872Z"
   },
   {
    "duration": 25,
    "start_time": "2023-03-12T19:17:58.847Z"
   },
   {
    "duration": 36,
    "start_time": "2023-03-12T19:18:01.974Z"
   },
   {
    "duration": 35,
    "start_time": "2023-03-12T19:18:10.416Z"
   },
   {
    "duration": 27,
    "start_time": "2023-03-12T19:18:15.725Z"
   },
   {
    "duration": 25,
    "start_time": "2023-03-12T19:18:29.710Z"
   },
   {
    "duration": 25,
    "start_time": "2023-03-12T19:19:13.173Z"
   },
   {
    "duration": 25,
    "start_time": "2023-03-12T19:19:15.423Z"
   },
   {
    "duration": 658,
    "start_time": "2023-03-12T19:19:21.183Z"
   },
   {
    "duration": 25,
    "start_time": "2023-03-12T19:19:28.399Z"
   },
   {
    "duration": 21,
    "start_time": "2023-03-12T19:19:54.074Z"
   },
   {
    "duration": 24,
    "start_time": "2023-03-12T19:19:57.471Z"
   },
   {
    "duration": 117,
    "start_time": "2023-03-12T19:20:51.270Z"
   },
   {
    "duration": 20,
    "start_time": "2023-03-12T19:21:02.402Z"
   },
   {
    "duration": 216,
    "start_time": "2023-03-12T19:21:10.219Z"
   },
   {
    "duration": 27,
    "start_time": "2023-03-12T19:25:21.797Z"
   },
   {
    "duration": 31,
    "start_time": "2023-03-12T19:25:30.398Z"
   },
   {
    "duration": 23,
    "start_time": "2023-03-12T19:26:54.318Z"
   },
   {
    "duration": 131,
    "start_time": "2023-03-12T19:27:24.085Z"
   },
   {
    "duration": 132,
    "start_time": "2023-03-12T19:27:50.280Z"
   },
   {
    "duration": 133,
    "start_time": "2023-03-12T19:27:56.862Z"
   },
   {
    "duration": 35,
    "start_time": "2023-03-12T19:29:25.294Z"
   },
   {
    "duration": 131,
    "start_time": "2023-03-12T19:29:33.983Z"
   },
   {
    "duration": 33,
    "start_time": "2023-03-12T19:30:20.206Z"
   },
   {
    "duration": 29,
    "start_time": "2023-03-12T19:30:27.037Z"
   },
   {
    "duration": 124,
    "start_time": "2023-03-12T19:30:29.889Z"
   },
   {
    "duration": 28,
    "start_time": "2023-03-12T19:31:05.580Z"
   },
   {
    "duration": 117,
    "start_time": "2023-03-12T19:31:08.516Z"
   },
   {
    "duration": 26,
    "start_time": "2023-03-12T19:31:21.974Z"
   },
   {
    "duration": 118,
    "start_time": "2023-03-12T19:31:24.296Z"
   },
   {
    "duration": 28,
    "start_time": "2023-03-12T19:33:17.674Z"
   },
   {
    "duration": 134,
    "start_time": "2023-03-12T19:33:21.706Z"
   },
   {
    "duration": 29,
    "start_time": "2023-03-12T19:35:18.189Z"
   },
   {
    "duration": 20,
    "start_time": "2023-03-12T20:02:18.371Z"
   },
   {
    "duration": 20,
    "start_time": "2023-03-12T20:02:32.010Z"
   },
   {
    "duration": 100,
    "start_time": "2023-03-12T20:03:03.897Z"
   },
   {
    "duration": 34,
    "start_time": "2023-03-12T20:03:43.670Z"
   },
   {
    "duration": 40,
    "start_time": "2023-03-12T20:04:03.037Z"
   },
   {
    "duration": 33,
    "start_time": "2023-03-12T20:04:23.123Z"
   },
   {
    "duration": 32,
    "start_time": "2023-03-12T20:04:29.238Z"
   },
   {
    "duration": 48,
    "start_time": "2023-03-12T20:04:36.039Z"
   },
   {
    "duration": 136,
    "start_time": "2023-03-12T20:04:57.255Z"
   },
   {
    "duration": 25,
    "start_time": "2023-03-12T20:05:13.134Z"
   },
   {
    "duration": 128,
    "start_time": "2023-03-12T20:05:28.404Z"
   },
   {
    "duration": 39,
    "start_time": "2023-03-12T20:05:33.977Z"
   },
   {
    "duration": 130,
    "start_time": "2023-03-12T20:05:43.637Z"
   },
   {
    "duration": 39,
    "start_time": "2023-03-12T20:29:05.214Z"
   },
   {
    "duration": 42,
    "start_time": "2023-03-12T20:31:21.447Z"
   },
   {
    "duration": 50,
    "start_time": "2023-03-12T20:31:28.111Z"
   },
   {
    "duration": 42,
    "start_time": "2023-03-12T20:31:52.133Z"
   },
   {
    "duration": 48,
    "start_time": "2023-03-12T20:31:59.556Z"
   },
   {
    "duration": 33,
    "start_time": "2023-03-12T20:32:44.135Z"
   },
   {
    "duration": 39,
    "start_time": "2023-03-12T20:34:17.667Z"
   },
   {
    "duration": 31,
    "start_time": "2023-03-12T20:34:27.231Z"
   },
   {
    "duration": 30,
    "start_time": "2023-03-12T20:36:01.608Z"
   },
   {
    "duration": 46,
    "start_time": "2023-03-12T20:37:03.106Z"
   },
   {
    "duration": 31,
    "start_time": "2023-03-12T20:37:20.299Z"
   },
   {
    "duration": 32,
    "start_time": "2023-03-12T20:37:58.318Z"
   },
   {
    "duration": 32,
    "start_time": "2023-03-12T20:38:03.138Z"
   },
   {
    "duration": 31,
    "start_time": "2023-03-12T20:38:06.970Z"
   },
   {
    "duration": 29,
    "start_time": "2023-03-12T20:38:13.316Z"
   },
   {
    "duration": 40,
    "start_time": "2023-03-12T20:38:21.346Z"
   },
   {
    "duration": 758,
    "start_time": "2023-03-12T20:38:46.793Z"
   },
   {
    "duration": 45,
    "start_time": "2023-03-12T20:38:51.685Z"
   },
   {
    "duration": 34,
    "start_time": "2023-03-12T20:38:57.101Z"
   },
   {
    "duration": 45,
    "start_time": "2023-03-12T20:39:54.974Z"
   },
   {
    "duration": 49,
    "start_time": "2023-03-12T20:40:58.630Z"
   },
   {
    "duration": 842,
    "start_time": "2023-03-12T20:41:09.400Z"
   },
   {
    "duration": 49,
    "start_time": "2023-03-12T20:41:26.882Z"
   },
   {
    "duration": 48,
    "start_time": "2023-03-12T20:41:41.833Z"
   },
   {
    "duration": 30,
    "start_time": "2023-03-12T20:41:50.933Z"
   },
   {
    "duration": 14,
    "start_time": "2023-03-12T20:42:18.795Z"
   },
   {
    "duration": 12,
    "start_time": "2023-03-12T20:43:08.316Z"
   },
   {
    "duration": 13,
    "start_time": "2023-03-12T20:43:39.026Z"
   },
   {
    "duration": 15,
    "start_time": "2023-03-12T20:43:45.609Z"
   },
   {
    "duration": 165,
    "start_time": "2023-03-12T20:44:01.320Z"
   },
   {
    "duration": 122,
    "start_time": "2023-03-12T20:44:12.090Z"
   },
   {
    "duration": 18,
    "start_time": "2023-03-12T20:46:28.477Z"
   },
   {
    "duration": 30,
    "start_time": "2023-03-12T20:46:32.825Z"
   },
   {
    "duration": 35,
    "start_time": "2023-03-12T20:47:25.781Z"
   },
   {
    "duration": 31,
    "start_time": "2023-03-12T20:47:31.486Z"
   },
   {
    "duration": 34,
    "start_time": "2023-03-12T20:47:50.247Z"
   },
   {
    "duration": 137,
    "start_time": "2023-03-12T20:48:03.061Z"
   },
   {
    "duration": 32,
    "start_time": "2023-03-12T20:48:50.127Z"
   },
   {
    "duration": 34,
    "start_time": "2023-03-12T20:49:10.034Z"
   },
   {
    "duration": 122,
    "start_time": "2023-03-12T20:49:35.975Z"
   },
   {
    "duration": 56,
    "start_time": "2023-03-12T20:50:26.207Z"
   },
   {
    "duration": 30,
    "start_time": "2023-03-12T20:50:30.113Z"
   },
   {
    "duration": 121,
    "start_time": "2023-03-12T20:50:38.132Z"
   },
   {
    "duration": 8,
    "start_time": "2023-03-12T20:53:01.702Z"
   },
   {
    "duration": 15,
    "start_time": "2023-03-12T20:53:42.398Z"
   },
   {
    "duration": 1919,
    "start_time": "2023-03-13T18:27:20.005Z"
   },
   {
    "duration": 129,
    "start_time": "2023-03-13T18:50:08.610Z"
   },
   {
    "duration": 36,
    "start_time": "2023-03-13T18:50:16.038Z"
   },
   {
    "duration": 1234,
    "start_time": "2023-03-13T18:50:41.605Z"
   },
   {
    "duration": 29,
    "start_time": "2023-03-13T18:50:42.841Z"
   },
   {
    "duration": 34,
    "start_time": "2023-03-13T18:50:42.875Z"
   },
   {
    "duration": 9,
    "start_time": "2023-03-13T18:50:42.910Z"
   },
   {
    "duration": 30,
    "start_time": "2023-03-13T18:50:42.921Z"
   },
   {
    "duration": 31,
    "start_time": "2023-03-13T18:50:42.953Z"
   },
   {
    "duration": 9,
    "start_time": "2023-03-13T18:50:43.000Z"
   },
   {
    "duration": 5,
    "start_time": "2023-03-13T18:50:43.010Z"
   },
   {
    "duration": 6,
    "start_time": "2023-03-13T18:50:43.016Z"
   },
   {
    "duration": 4,
    "start_time": "2023-03-13T18:50:43.024Z"
   },
   {
    "duration": 63,
    "start_time": "2023-03-13T18:50:43.029Z"
   },
   {
    "duration": 10,
    "start_time": "2023-03-13T18:50:43.105Z"
   },
   {
    "duration": 4,
    "start_time": "2023-03-13T18:50:43.116Z"
   },
   {
    "duration": 14,
    "start_time": "2023-03-13T18:50:43.123Z"
   },
   {
    "duration": 50,
    "start_time": "2023-03-13T18:50:43.138Z"
   },
   {
    "duration": 28,
    "start_time": "2023-03-13T18:50:43.189Z"
   },
   {
    "duration": 4,
    "start_time": "2023-03-13T18:50:43.218Z"
   },
   {
    "duration": 11,
    "start_time": "2023-03-13T18:50:43.224Z"
   },
   {
    "duration": 7,
    "start_time": "2023-03-13T18:50:43.236Z"
   },
   {
    "duration": 24,
    "start_time": "2023-03-13T18:50:43.245Z"
   },
   {
    "duration": 36,
    "start_time": "2023-03-13T18:50:43.273Z"
   },
   {
    "duration": 34,
    "start_time": "2023-03-13T18:50:43.310Z"
   },
   {
    "duration": 135,
    "start_time": "2023-03-13T18:50:43.345Z"
   },
   {
    "duration": 17,
    "start_time": "2023-03-13T18:50:43.481Z"
   },
   {
    "duration": 141,
    "start_time": "2023-03-13T18:50:43.509Z"
   },
   {
    "duration": 0,
    "start_time": "2023-03-13T18:50:43.651Z"
   },
   {
    "duration": 0,
    "start_time": "2023-03-13T18:50:43.652Z"
   },
   {
    "duration": 0,
    "start_time": "2023-03-13T18:50:43.653Z"
   },
   {
    "duration": 0,
    "start_time": "2023-03-13T18:50:43.654Z"
   },
   {
    "duration": 0,
    "start_time": "2023-03-13T18:50:43.655Z"
   },
   {
    "duration": 0,
    "start_time": "2023-03-13T18:50:43.655Z"
   },
   {
    "duration": 18,
    "start_time": "2023-03-13T18:51:03.246Z"
   },
   {
    "duration": 146,
    "start_time": "2023-03-13T18:51:08.479Z"
   },
   {
    "duration": 1449,
    "start_time": "2023-03-13T18:51:15.170Z"
   },
   {
    "duration": 18,
    "start_time": "2023-03-13T18:51:16.622Z"
   },
   {
    "duration": 25,
    "start_time": "2023-03-13T18:51:16.642Z"
   },
   {
    "duration": 28,
    "start_time": "2023-03-13T18:51:16.672Z"
   },
   {
    "duration": 36,
    "start_time": "2023-03-13T18:51:16.708Z"
   },
   {
    "duration": 4,
    "start_time": "2023-03-13T18:51:16.745Z"
   },
   {
    "duration": 26,
    "start_time": "2023-03-13T18:51:16.750Z"
   },
   {
    "duration": 10,
    "start_time": "2023-03-13T18:51:16.781Z"
   },
   {
    "duration": 21,
    "start_time": "2023-03-13T18:51:16.802Z"
   },
   {
    "duration": 5,
    "start_time": "2023-03-13T18:51:16.826Z"
   },
   {
    "duration": 94,
    "start_time": "2023-03-13T18:51:16.834Z"
   },
   {
    "duration": 10,
    "start_time": "2023-03-13T18:51:16.938Z"
   },
   {
    "duration": 3,
    "start_time": "2023-03-13T18:51:16.950Z"
   },
   {
    "duration": 58,
    "start_time": "2023-03-13T18:51:16.962Z"
   },
   {
    "duration": 23,
    "start_time": "2023-03-13T18:51:17.026Z"
   },
   {
    "duration": 40,
    "start_time": "2023-03-13T18:51:17.051Z"
   },
   {
    "duration": 6,
    "start_time": "2023-03-13T18:51:17.101Z"
   },
   {
    "duration": 18,
    "start_time": "2023-03-13T18:51:17.111Z"
   },
   {
    "duration": 9,
    "start_time": "2023-03-13T18:51:17.130Z"
   },
   {
    "duration": 6,
    "start_time": "2023-03-13T18:51:17.141Z"
   },
   {
    "duration": 84,
    "start_time": "2023-03-13T18:51:17.149Z"
   },
   {
    "duration": 91,
    "start_time": "2023-03-13T18:51:17.235Z"
   },
   {
    "duration": 216,
    "start_time": "2023-03-13T18:51:17.328Z"
   },
   {
    "duration": 42,
    "start_time": "2023-03-13T18:51:17.546Z"
   },
   {
    "duration": 182,
    "start_time": "2023-03-13T18:51:17.590Z"
   },
   {
    "duration": 40,
    "start_time": "2023-03-13T18:51:17.774Z"
   },
   {
    "duration": 184,
    "start_time": "2023-03-13T18:51:17.815Z"
   },
   {
    "duration": 31,
    "start_time": "2023-03-13T18:51:18.001Z"
   },
   {
    "duration": 150,
    "start_time": "2023-03-13T18:51:18.034Z"
   },
   {
    "duration": 50,
    "start_time": "2023-03-13T18:51:18.185Z"
   },
   {
    "duration": 172,
    "start_time": "2023-03-13T18:51:18.236Z"
   },
   {
    "duration": 13,
    "start_time": "2023-03-13T18:58:30.741Z"
   },
   {
    "duration": 122,
    "start_time": "2023-03-13T22:19:12.944Z"
   },
   {
    "duration": 19,
    "start_time": "2023-03-13T22:19:55.873Z"
   },
   {
    "duration": 105,
    "start_time": "2023-03-13T22:20:41.821Z"
   },
   {
    "duration": 1409,
    "start_time": "2023-03-13T22:20:49.613Z"
   },
   {
    "duration": 26,
    "start_time": "2023-03-13T22:20:51.024Z"
   },
   {
    "duration": 52,
    "start_time": "2023-03-13T22:20:51.052Z"
   },
   {
    "duration": 12,
    "start_time": "2023-03-13T22:20:51.109Z"
   },
   {
    "duration": 29,
    "start_time": "2023-03-13T22:20:51.123Z"
   },
   {
    "duration": 15,
    "start_time": "2023-03-13T22:20:51.154Z"
   },
   {
    "duration": 22,
    "start_time": "2023-03-13T22:20:51.181Z"
   },
   {
    "duration": 5,
    "start_time": "2023-03-13T22:20:51.204Z"
   },
   {
    "duration": 7,
    "start_time": "2023-03-13T22:20:51.211Z"
   },
   {
    "duration": 4,
    "start_time": "2023-03-13T22:20:51.220Z"
   },
   {
    "duration": 79,
    "start_time": "2023-03-13T22:20:51.225Z"
   },
   {
    "duration": 14,
    "start_time": "2023-03-13T22:20:51.315Z"
   },
   {
    "duration": 5,
    "start_time": "2023-03-13T22:20:51.330Z"
   },
   {
    "duration": 10,
    "start_time": "2023-03-13T22:20:51.338Z"
   },
   {
    "duration": 67,
    "start_time": "2023-03-13T22:20:51.349Z"
   },
   {
    "duration": 17,
    "start_time": "2023-03-13T22:20:51.418Z"
   },
   {
    "duration": 4,
    "start_time": "2023-03-13T22:20:51.436Z"
   },
   {
    "duration": 10,
    "start_time": "2023-03-13T22:20:51.441Z"
   },
   {
    "duration": 57,
    "start_time": "2023-03-13T22:20:51.453Z"
   },
   {
    "duration": 4,
    "start_time": "2023-03-13T22:20:51.511Z"
   },
   {
    "duration": 74,
    "start_time": "2023-03-13T22:20:51.518Z"
   },
   {
    "duration": 39,
    "start_time": "2023-03-13T22:20:51.593Z"
   },
   {
    "duration": 170,
    "start_time": "2023-03-13T22:20:51.633Z"
   },
   {
    "duration": 13,
    "start_time": "2023-03-13T22:20:51.805Z"
   },
   {
    "duration": 164,
    "start_time": "2023-03-13T22:20:51.820Z"
   },
   {
    "duration": 42,
    "start_time": "2023-03-13T22:20:51.991Z"
   },
   {
    "duration": 192,
    "start_time": "2023-03-13T22:20:52.034Z"
   },
   {
    "duration": 43,
    "start_time": "2023-03-13T22:20:52.229Z"
   },
   {
    "duration": 131,
    "start_time": "2023-03-13T22:20:52.277Z"
   },
   {
    "duration": 34,
    "start_time": "2023-03-13T22:20:52.410Z"
   },
   {
    "duration": 152,
    "start_time": "2023-03-13T22:20:52.445Z"
   },
   {
    "duration": 34,
    "start_time": "2023-03-13T22:22:11.789Z"
   },
   {
    "duration": 150,
    "start_time": "2023-03-13T22:22:46.313Z"
   },
   {
    "duration": 135,
    "start_time": "2023-03-13T22:29:59.011Z"
   },
   {
    "duration": 150,
    "start_time": "2023-03-13T23:44:48.861Z"
   },
   {
    "duration": 1270,
    "start_time": "2023-03-13T23:46:31.290Z"
   },
   {
    "duration": 31,
    "start_time": "2023-03-13T23:46:32.576Z"
   },
   {
    "duration": 16,
    "start_time": "2023-03-13T23:46:32.608Z"
   },
   {
    "duration": 8,
    "start_time": "2023-03-13T23:46:32.625Z"
   },
   {
    "duration": 53,
    "start_time": "2023-03-13T23:46:32.635Z"
   },
   {
    "duration": 7,
    "start_time": "2023-03-13T23:46:32.691Z"
   },
   {
    "duration": 8,
    "start_time": "2023-03-13T23:46:32.699Z"
   },
   {
    "duration": 4,
    "start_time": "2023-03-13T23:46:32.708Z"
   },
   {
    "duration": 8,
    "start_time": "2023-03-13T23:46:32.713Z"
   },
   {
    "duration": 8,
    "start_time": "2023-03-13T23:46:32.722Z"
   },
   {
    "duration": 52,
    "start_time": "2023-03-13T23:46:32.732Z"
   },
   {
    "duration": 12,
    "start_time": "2023-03-13T23:46:32.785Z"
   },
   {
    "duration": 4,
    "start_time": "2023-03-13T23:46:32.799Z"
   },
   {
    "duration": 10,
    "start_time": "2023-03-13T23:46:32.805Z"
   },
   {
    "duration": 18,
    "start_time": "2023-03-13T23:46:32.816Z"
   },
   {
    "duration": 15,
    "start_time": "2023-03-13T23:46:32.835Z"
   },
   {
    "duration": 21,
    "start_time": "2023-03-13T23:46:32.851Z"
   },
   {
    "duration": 17,
    "start_time": "2023-03-13T23:46:32.879Z"
   },
   {
    "duration": 7,
    "start_time": "2023-03-13T23:46:32.897Z"
   },
   {
    "duration": 4,
    "start_time": "2023-03-13T23:46:32.905Z"
   },
   {
    "duration": 20,
    "start_time": "2023-03-13T23:46:32.910Z"
   },
   {
    "duration": 62,
    "start_time": "2023-03-13T23:46:32.931Z"
   },
   {
    "duration": 118,
    "start_time": "2023-03-13T23:46:32.995Z"
   },
   {
    "duration": 12,
    "start_time": "2023-03-13T23:46:33.114Z"
   },
   {
    "duration": 170,
    "start_time": "2023-03-13T23:46:33.127Z"
   },
   {
    "duration": 27,
    "start_time": "2023-03-13T23:46:33.299Z"
   },
   {
    "duration": 176,
    "start_time": "2023-03-13T23:46:33.328Z"
   },
   {
    "duration": 26,
    "start_time": "2023-03-13T23:46:33.505Z"
   },
   {
    "duration": 163,
    "start_time": "2023-03-13T23:46:33.532Z"
   },
   {
    "duration": 31,
    "start_time": "2023-03-13T23:46:33.696Z"
   },
   {
    "duration": 118,
    "start_time": "2023-03-13T23:46:33.728Z"
   },
   {
    "duration": 71,
    "start_time": "2023-03-14T13:49:07.109Z"
   },
   {
    "duration": 48,
    "start_time": "2023-03-14T14:15:02.929Z"
   },
   {
    "duration": 1619,
    "start_time": "2023-03-14T14:15:13.802Z"
   },
   {
    "duration": 21,
    "start_time": "2023-03-14T14:15:15.423Z"
   },
   {
    "duration": 18,
    "start_time": "2023-03-14T14:15:15.446Z"
   },
   {
    "duration": 14,
    "start_time": "2023-03-14T14:15:15.466Z"
   },
   {
    "duration": 61,
    "start_time": "2023-03-14T14:15:15.481Z"
   },
   {
    "duration": 4,
    "start_time": "2023-03-14T14:15:15.544Z"
   },
   {
    "duration": 24,
    "start_time": "2023-03-14T14:15:15.550Z"
   },
   {
    "duration": 14,
    "start_time": "2023-03-14T14:15:15.576Z"
   },
   {
    "duration": 20,
    "start_time": "2023-03-14T14:15:15.592Z"
   },
   {
    "duration": 5,
    "start_time": "2023-03-14T14:15:15.615Z"
   },
   {
    "duration": 50,
    "start_time": "2023-03-14T14:15:15.624Z"
   },
   {
    "duration": 14,
    "start_time": "2023-03-14T14:15:15.676Z"
   },
   {
    "duration": 17,
    "start_time": "2023-03-14T14:15:15.692Z"
   },
   {
    "duration": 20,
    "start_time": "2023-03-14T14:15:15.711Z"
   },
   {
    "duration": 29,
    "start_time": "2023-03-14T14:15:15.733Z"
   },
   {
    "duration": 21,
    "start_time": "2023-03-14T14:15:15.764Z"
   },
   {
    "duration": 4,
    "start_time": "2023-03-14T14:15:15.786Z"
   },
   {
    "duration": 19,
    "start_time": "2023-03-14T14:15:15.792Z"
   },
   {
    "duration": 18,
    "start_time": "2023-03-14T14:15:15.813Z"
   },
   {
    "duration": 11,
    "start_time": "2023-03-14T14:15:15.833Z"
   },
   {
    "duration": 40,
    "start_time": "2023-03-14T14:15:15.845Z"
   },
   {
    "duration": 40,
    "start_time": "2023-03-14T14:15:15.886Z"
   },
   {
    "duration": 121,
    "start_time": "2023-03-14T14:15:15.928Z"
   },
   {
    "duration": 14,
    "start_time": "2023-03-14T14:15:16.051Z"
   },
   {
    "duration": 161,
    "start_time": "2023-03-14T14:15:16.067Z"
   },
   {
    "duration": 133,
    "start_time": "2023-03-14T14:15:16.229Z"
   },
   {
    "duration": 157,
    "start_time": "2023-03-14T14:15:16.364Z"
   },
   {
    "duration": 33,
    "start_time": "2023-03-14T14:15:16.525Z"
   },
   {
    "duration": 152,
    "start_time": "2023-03-14T14:15:16.560Z"
   },
   {
    "duration": 40,
    "start_time": "2023-03-14T14:15:16.714Z"
   },
   {
    "duration": 149,
    "start_time": "2023-03-14T14:15:16.756Z"
   },
   {
    "duration": 97,
    "start_time": "2023-03-14T14:15:42.873Z"
   },
   {
    "duration": 128,
    "start_time": "2023-03-14T14:15:57.837Z"
   },
   {
    "duration": 182,
    "start_time": "2023-03-14T14:16:10.417Z"
   },
   {
    "duration": 113,
    "start_time": "2023-03-14T14:16:17.935Z"
   },
   {
    "duration": 228,
    "start_time": "2023-03-14T14:16:24.009Z"
   },
   {
    "duration": 46,
    "start_time": "2023-03-14T14:18:38.899Z"
   },
   {
    "duration": 136,
    "start_time": "2023-03-14T14:18:52.821Z"
   },
   {
    "duration": 148,
    "start_time": "2023-03-14T14:19:03.624Z"
   },
   {
    "duration": 141,
    "start_time": "2023-03-14T14:19:09.929Z"
   },
   {
    "duration": 144,
    "start_time": "2023-03-14T14:19:15.183Z"
   },
   {
    "duration": 138,
    "start_time": "2023-03-14T14:20:32.871Z"
   },
   {
    "duration": 138,
    "start_time": "2023-03-14T14:21:00.033Z"
   },
   {
    "duration": 43,
    "start_time": "2023-03-14T14:21:35.721Z"
   },
   {
    "duration": 144,
    "start_time": "2023-03-14T14:21:40.126Z"
   },
   {
    "duration": 122,
    "start_time": "2023-03-14T14:22:04.450Z"
   },
   {
    "duration": 130,
    "start_time": "2023-03-14T14:22:40.933Z"
   },
   {
    "duration": 122,
    "start_time": "2023-03-14T14:22:54.669Z"
   },
   {
    "duration": 1331,
    "start_time": "2023-03-14T15:24:51.526Z"
   },
   {
    "duration": 21,
    "start_time": "2023-03-14T15:24:52.860Z"
   },
   {
    "duration": 17,
    "start_time": "2023-03-14T15:24:52.883Z"
   },
   {
    "duration": 31,
    "start_time": "2023-03-14T15:24:52.902Z"
   },
   {
    "duration": 39,
    "start_time": "2023-03-14T15:24:52.934Z"
   },
   {
    "duration": 4,
    "start_time": "2023-03-14T15:24:52.976Z"
   },
   {
    "duration": 31,
    "start_time": "2023-03-14T15:24:52.981Z"
   },
   {
    "duration": 17,
    "start_time": "2023-03-14T15:24:53.014Z"
   },
   {
    "duration": 18,
    "start_time": "2023-03-14T15:24:53.033Z"
   },
   {
    "duration": 22,
    "start_time": "2023-03-14T15:24:53.054Z"
   },
   {
    "duration": 54,
    "start_time": "2023-03-14T15:24:53.078Z"
   },
   {
    "duration": 13,
    "start_time": "2023-03-14T15:24:53.134Z"
   },
   {
    "duration": 17,
    "start_time": "2023-03-14T15:24:53.149Z"
   },
   {
    "duration": 22,
    "start_time": "2023-03-14T15:24:53.168Z"
   },
   {
    "duration": 27,
    "start_time": "2023-03-14T15:24:53.192Z"
   },
   {
    "duration": 23,
    "start_time": "2023-03-14T15:24:53.225Z"
   },
   {
    "duration": 7,
    "start_time": "2023-03-14T15:24:53.250Z"
   },
   {
    "duration": 16,
    "start_time": "2023-03-14T15:24:53.259Z"
   },
   {
    "duration": 7,
    "start_time": "2023-03-14T15:24:53.276Z"
   },
   {
    "duration": 5,
    "start_time": "2023-03-14T15:24:53.285Z"
   },
   {
    "duration": 50,
    "start_time": "2023-03-14T15:24:53.291Z"
   },
   {
    "duration": 43,
    "start_time": "2023-03-14T15:24:53.343Z"
   },
   {
    "duration": 144,
    "start_time": "2023-03-14T15:24:53.388Z"
   },
   {
    "duration": 15,
    "start_time": "2023-03-14T15:24:53.533Z"
   },
   {
    "duration": 178,
    "start_time": "2023-03-14T15:24:53.550Z"
   },
   {
    "duration": 35,
    "start_time": "2023-03-14T15:24:53.730Z"
   },
   {
    "duration": 179,
    "start_time": "2023-03-14T15:24:53.767Z"
   },
   {
    "duration": 32,
    "start_time": "2023-03-14T15:24:53.950Z"
   },
   {
    "duration": 154,
    "start_time": "2023-03-14T15:24:53.983Z"
   },
   {
    "duration": 35,
    "start_time": "2023-03-14T15:24:54.139Z"
   },
   {
    "duration": 171,
    "start_time": "2023-03-14T15:24:54.176Z"
   }
  ],
  "colab": {
   "provenance": []
  },
  "kernelspec": {
   "display_name": "Python 3 (ipykernel)",
   "language": "python",
   "name": "python3"
  },
  "language_info": {
   "codemirror_mode": {
    "name": "ipython",
    "version": 3
   },
   "file_extension": ".py",
   "mimetype": "text/x-python",
   "name": "python",
   "nbconvert_exporter": "python",
   "pygments_lexer": "ipython3",
   "version": "3.9.13"
  },
  "toc": {
   "base_numbering": 1,
   "nav_menu": {},
   "number_sections": true,
   "sideBar": true,
   "skip_h1_title": true,
   "title_cell": "Table of Contents",
   "title_sidebar": "Contents",
   "toc_cell": false,
   "toc_position": {},
   "toc_section_display": true,
   "toc_window_display": false
  }
 },
 "nbformat": 4,
 "nbformat_minor": 5
}
